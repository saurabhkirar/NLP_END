{
  "nbformat": 4,
  "nbformat_minor": 0,
  "metadata": {
    "colab": {
      "name": "Session8.ipynb",
      "provenance": [],
      "collapsed_sections": [],
      "authorship_tag": "ABX9TyMfOa+gIi8OsiY4Jxf085Wd",
      "include_colab_link": true
    },
    "kernelspec": {
      "name": "python3",
      "display_name": "Python 3"
    }
  },
  "cells": [
    {
      "cell_type": "markdown",
      "metadata": {
        "id": "view-in-github",
        "colab_type": "text"
      },
      "source": [
        "<a href=\"https://colab.research.google.com/github/saurabhkirar/NLP_END/blob/main/Session8/Session8.ipynb\" target=\"_parent\"><img src=\"https://colab.research.google.com/assets/colab-badge.svg\" alt=\"Open In Colab\"/></a>"
      ]
    },
    {
      "cell_type": "code",
      "metadata": {
        "colab": {
          "base_uri": "https://localhost:8080/"
        },
        "id": "H6ZRgBJE4Thz",
        "outputId": "3a134d62-341d-4259-ef57-87e6cdb8eb98"
      },
      "source": [
        "# Write a pyth0n program to multiply two number \r\n",
        "num1=100.19\r\n",
        "num2=200.43\r\n",
        "num3=num1*num2\r\n",
        "print('The product of %.2f and %.2f is %.2f'%(num1,num2,num3))"
      ],
      "execution_count": null,
      "outputs": [
        {
          "output_type": "stream",
          "text": [
            "The product of 100.19 and 200.43 is 20081.08\n"
          ],
          "name": "stdout"
        }
      ]
    },
    {
      "cell_type": "code",
      "metadata": {
        "colab": {
          "base_uri": "https://localhost:8080/"
        },
        "id": "95z8KpCH7alQ",
        "outputId": "b7c92c9a-c012-4af2-cc90-26907d4d3c95"
      },
      "source": [
        "# Write a program to print the positive number of all the  given number in a list \r\n",
        "lis=[1,3,-9,-81,7776,-9876]\r\n",
        "abs_list=[]\r\n",
        "print('actual list',lis)\r\n",
        "for rec in lis:\r\n",
        "  rec=abs(rec)\r\n",
        "  abs_list.append(rec)\r\n",
        "print('list with absolute values',abs_list)"
      ],
      "execution_count": null,
      "outputs": [
        {
          "output_type": "stream",
          "text": [
            "actual list [1, 3, -9, -81, 7776, -9876]\n",
            "list with absolute values [1, 3, 9, 81, 7776, 9876]\n"
          ],
          "name": "stdout"
        }
      ]
    },
    {
      "cell_type": "code",
      "metadata": {
        "colab": {
          "base_uri": "https://localhost:8080/"
        },
        "id": "v_6uoPHx8d50",
        "outputId": "f195eb29-af6c-4bda-c96e-1ef13e0032b6"
      },
      "source": [
        "## Write a program that has a python function to return the value if the input  is greater than zero else the function should return zero\r\n",
        "# test the function with one postive and one negetive value.\r\n",
        "def func_relu(x):\r\n",
        "  return x if x > 0 else 0\r\n",
        "\r\n",
        "print('the output for 98 is ',func_relu(98))\r\n",
        "print('the output for -98  is ',func_relu(-98))"
      ],
      "execution_count": null,
      "outputs": [
        {
          "output_type": "stream",
          "text": [
            "the output for 98 is  98\n",
            "the output for -98  is  0\n"
          ],
          "name": "stdout"
        }
      ]
    },
    {
      "cell_type": "code",
      "metadata": {
        "colab": {
          "base_uri": "https://localhost:8080/"
        },
        "id": "Lz1Ij4ZY_S6a",
        "outputId": "756060de-d387-4b55-f48b-df6c9154408d"
      },
      "source": [
        "## write a python code to find the maximum and mimimum values in a list.\r\n",
        "lst=[98,776,1,22,33]\r\n",
        "print('Maximum value in the list is ',max(lst))\r\n",
        "print('minimum vale in the list is ',min(lst))"
      ],
      "execution_count": null,
      "outputs": [
        {
          "output_type": "stream",
          "text": [
            "Maximum value in the list is  776\n",
            "minimum vale in the list is  1\n"
          ],
          "name": "stdout"
        }
      ]
    },
    {
      "cell_type": "code",
      "metadata": {
        "colab": {
          "base_uri": "https://localhost:8080/"
        },
        "id": "pF3Sx6e_A6Sf",
        "outputId": "05f32810-099d-405b-e77a-12907b4c72d7"
      },
      "source": [
        "## Write a function in python which takes a list as an input and returns the normalized list as the output.\r\n",
        "## x normalized = (x – x minimum) / (x maximum – x minimum)\r\n",
        "## test the function and print the normalized list\r\n",
        "def func_normalization(p_list):\r\n",
        "  l_max=max(p_list)\r\n",
        "  l_min=min(p_list)\r\n",
        "  deno=l_max-l_min\r\n",
        "  norm_lst=[]\r\n",
        "  for rec in p_list:\r\n",
        "    norm_lst.append((rec-l_min)/deno)\r\n",
        "  return norm_lst\r\n",
        "\r\n",
        "nat_list=[234,345,887,98]\r\n",
        "func_normalization(nat_list)"
      ],
      "execution_count": null,
      "outputs": [
        {
          "output_type": "execute_result",
          "data": {
            "text/plain": [
              "[0.17237008871989862, 0.31305449936628643, 1.0, 0.0]"
            ]
          },
          "metadata": {
            "tags": []
          },
          "execution_count": 91
        }
      ]
    },
    {
      "cell_type": "code",
      "metadata": {
        "colab": {
          "base_uri": "https://localhost:8080/"
        },
        "id": "GXMJggj7DZnj",
        "outputId": "41c2d24c-3457-4448-be57-b3e7ce7119c8"
      },
      "source": [
        "## Write a code to print the  memory address of a given array \r\n",
        "from array import *\r\n",
        "arr=array('i',[1,5,7,89])\r\n",
        "print('Memory address of the given array is ',arr.buffer_info())"
      ],
      "execution_count": null,
      "outputs": [
        {
          "output_type": "stream",
          "text": [
            "Memory address of the given array is  (140549508420864, 4)\n"
          ],
          "name": "stdout"
        }
      ]
    },
    {
      "cell_type": "code",
      "metadata": {
        "colab": {
          "base_uri": "https://localhost:8080/"
        },
        "id": "l3_Xhlx8GeCf",
        "outputId": "fbc0f509-3833-485f-e006-1c1cf0c742c4"
      },
      "source": [
        "## Write a code to print the  no of element of a given array \r\n",
        "from array import *\r\n",
        "arr=array('i',[1,5,7,89])\r\n",
        "print('There are total %d elements '%(arr.buffer_info()[1]))"
      ],
      "execution_count": null,
      "outputs": [
        {
          "output_type": "stream",
          "text": [
            "There are total 4 elements \n"
          ],
          "name": "stdout"
        }
      ]
    },
    {
      "cell_type": "code",
      "metadata": {
        "colab": {
          "base_uri": "https://localhost:8080/"
        },
        "id": "B1ISWpQUH7v6",
        "outputId": "2b65dc32-fd3c-4464-fe14-533e452668d3"
      },
      "source": [
        "#Write a Python program to remove the first occurrence of a specified element from an array\r\n",
        "from array import *\r\n",
        "array_num = array('i', [1, 3, 15, 3, 37, 21, 29, 3])\r\n",
        "print(\"Original array: \"+str(array_num))\r\n",
        "array_num.remove(3)\r\n",
        "print(\"New array: \"+str(array_num))"
      ],
      "execution_count": null,
      "outputs": [
        {
          "output_type": "stream",
          "text": [
            "Original array: array('i', [1, 3, 15, 3, 37, 21, 29, 3])\n",
            "New array: array('i', [1, 15, 3, 37, 21, 29, 3])\n"
          ],
          "name": "stdout"
        }
      ]
    },
    {
      "cell_type": "code",
      "metadata": {
        "colab": {
          "base_uri": "https://localhost:8080/"
        },
        "id": "Go89MSzcIaGf",
        "outputId": "edcb7f75-92c1-4aa5-f16c-0aa7b0aee34b"
      },
      "source": [
        "## write a code to define dictionary and loop over it.\r\n",
        "d = {'x': 10, 'y': 20, 'z': 30} \r\n",
        "for dict_key, dict_value in d.items():\r\n",
        "    print(dict_key,'->',dict_value)"
      ],
      "execution_count": null,
      "outputs": [
        {
          "output_type": "stream",
          "text": [
            "x -> 10\n",
            "y -> 20\n",
            "z -> 30\n"
          ],
          "name": "stdout"
        }
      ]
    },
    {
      "cell_type": "code",
      "metadata": {
        "colab": {
          "base_uri": "https://localhost:8080/"
        },
        "id": "FKP1uUFAI8dc",
        "outputId": "083e5929-6d53-4515-d0ed-df564479e2d6"
      },
      "source": [
        "## Write a code to merge two dictionaries.\r\n",
        "d1 = {'a': 100, 'b': 200}\r\n",
        "d2 = {'x': 300, 'y': 200}\r\n",
        "d = d1.copy()\r\n",
        "d.update(d2)\r\n",
        "print(d)"
      ],
      "execution_count": null,
      "outputs": [
        {
          "output_type": "stream",
          "text": [
            "{'a': 100, 'b': 200, 'x': 300, 'y': 200}\n"
          ],
          "name": "stdout"
        }
      ]
    },
    {
      "cell_type": "code",
      "metadata": {
        "colab": {
          "base_uri": "https://localhost:8080/"
        },
        "id": "HuVR44t4JBm8",
        "outputId": "69b5e86f-d67a-4505-e318-6b0d30ac0276"
      },
      "source": [
        "## write a code to merge two lists into one dictionary.\r\n",
        "keys = ['sachin', 'hayden', 'sana']\r\n",
        "values = ['Ind','Aus', 'SL']\r\n",
        "player = dict(zip(keys, values))\r\n",
        "print(player)"
      ],
      "execution_count": null,
      "outputs": [
        {
          "output_type": "stream",
          "text": [
            "{'sachin': 'Ind', 'hayden': 'Aus', 'sana': 'SL'}\n"
          ],
          "name": "stdout"
        }
      ]
    },
    {
      "cell_type": "code",
      "metadata": {
        "colab": {
          "base_uri": "https://localhost:8080/"
        },
        "id": "Eoigu_lzJs6m",
        "outputId": "d0a7b92a-fd8f-4c3a-9a26-e9b95cdb27d9"
      },
      "source": [
        "## write a class in oythin to get the dictionary from an object field, test the code.\r\n",
        "class Player(object):\r\n",
        "     def __init__(self):\r\n",
        "         self.ind = 'sachin'\r\n",
        "         self.aus = 'hayden'\r\n",
        "         self.sl = 'sana'\r\n",
        "     def do_nothing(self):\r\n",
        "         pass\r\n",
        "test = Player()\r\n",
        "print(test.__dict__)"
      ],
      "execution_count": null,
      "outputs": [
        {
          "output_type": "stream",
          "text": [
            "{'ind': 'sachin', 'aus': 'hayden', 'sl': 'sana'}\n"
          ],
          "name": "stdout"
        }
      ]
    },
    {
      "cell_type": "code",
      "metadata": {
        "colab": {
          "base_uri": "https://localhost:8080/"
        },
        "id": "o1nSHpzGKd7D",
        "outputId": "cf702c25-de82-4344-c983-8f6d148f4860"
      },
      "source": [
        "\"\"\"\r\n",
        "Write a Python program to print all unique values in a dictionary. Go to the editor\r\n",
        "Sample Data : [{\"V\":\"1\"}, {\"V\": \"2\"}, {\"VI\": \"1\"}, {\"VI\": \"5\"}, {\"VII\":\"5\"}, {\"V\":\"9\"},{\"VIII\":\"7\"}]\r\n",
        "Expected Output : Unique Values: {'5', '2', '7', '1', '9'}\r\n",
        "\"\"\"\r\n",
        "L = [{\"V\":\"1\"}, {\"V\": \"2\"}, {\"VI\": \"1\"}, {\"VI\": \"5\"}, {\"VII\":\"5\"}, {\"V\":\"9\"},{\"VIII\":\"7\"}]\r\n",
        "print(\"Original List: \",L)\r\n",
        "u_value = set( val for dic in L for val in dic.values())\r\n",
        "print(\"Unique Values: \",u_value)"
      ],
      "execution_count": null,
      "outputs": [
        {
          "output_type": "stream",
          "text": [
            "Original List:  [{'V': '1'}, {'V': '2'}, {'VI': '1'}, {'VI': '5'}, {'VII': '5'}, {'V': '9'}, {'VIII': '7'}]\n",
            "Unique Values:  {'2', '1', '7', '9', '5'}\n"
          ],
          "name": "stdout"
        }
      ]
    },
    {
      "cell_type": "code",
      "metadata": {
        "colab": {
          "base_uri": "https://localhost:8080/"
        },
        "id": "CH62IeJwLS_w",
        "outputId": "755d044b-91dd-4a19-b962-428bb93c07db"
      },
      "source": [
        "## Write a pythin code to add three lists using lambda and map.\r\n",
        "nums1 = [1, 2, 3] \r\n",
        "nums2 = [4, 5, 6] \r\n",
        "nums3 = [7, 8, 9] \r\n",
        "print(\"Original list: \")\r\n",
        "print(nums1)  \r\n",
        "print(nums2)  \r\n",
        "print(nums3)  \r\n",
        "result = map(lambda x, y, z: x + y + z, nums1, nums2, nums3) \r\n",
        "print(\"\\nNew list after adding above three lists:\")\r\n",
        "print(list(result))"
      ],
      "execution_count": null,
      "outputs": [
        {
          "output_type": "stream",
          "text": [
            "Original list: \n",
            "[1, 2, 3]\n",
            "[4, 5, 6]\n",
            "[7, 8, 9]\n",
            "\n",
            "New list after adding above three lists:\n",
            "[12, 15, 18]\n"
          ],
          "name": "stdout"
        }
      ]
    },
    {
      "cell_type": "code",
      "metadata": {
        "colab": {
          "base_uri": "https://localhost:8080/"
        },
        "id": "GnwY8gsOMJQ3",
        "outputId": "b8555367-ac73-4336-93e8-4f8a57288de5"
      },
      "source": [
        "## use time and datetine and list down few formats \r\n",
        "import time\r\n",
        "import datetime\r\n",
        "print(\"Current date and time: \" , datetime.datetime.now())\r\n",
        "print(\"Current year: \", datetime.date.today().strftime(\"%Y\"))\r\n",
        "print(\"Month of year: \", datetime.date.today().strftime(\"%B\"))\r\n",
        "print(\"Week number of the year: \", datetime.date.today().strftime(\"%W\"))\r\n",
        "print(\"Weekday of the week: \", datetime.date.today().strftime(\"%w\"))\r\n",
        "print(\"Day of year: \", datetime.date.today().strftime(\"%j\"))\r\n",
        "print(\"Day of the month : \", datetime.date.today().strftime(\"%d\"))\r\n",
        "print(\"Day of week: \", datetime.date.today().strftime(\"%A\"))"
      ],
      "execution_count": null,
      "outputs": [
        {
          "output_type": "stream",
          "text": [
            "Current date and time:  2020-12-16 15:35:07.374382\n",
            "Current year:  2020\n",
            "Month of year:  December\n",
            "Week number of the year:  50\n",
            "Weekday of the week:  3\n",
            "Day of year:  351\n",
            "Day of the month :  16\n",
            "Day of week:  Wednesday\n"
          ],
          "name": "stdout"
        }
      ]
    },
    {
      "cell_type": "code",
      "metadata": {
        "id": "sofFjnQKMRya",
        "colab": {
          "base_uri": "https://localhost:8080/"
        },
        "outputId": "3527c5fc-5755-4d63-807a-d7fa6bc52b60"
      },
      "source": [
        "## Write a code to show the unique file type based on the extension from a list.\r\n",
        "\r\n",
        "lst=['a.jpg','b.png','c.jpeg','d.java','e.sql','f.sql','g.sql','z.png']\r\n",
        "uniq=[]\r\n",
        "for rec in lst:\r\n",
        "    E =rec.split('.')[1]\r\n",
        "    uniq.append(E)\r\n",
        "set(uniq)  ## Set gives the distinct or non repetative values of the list."
      ],
      "execution_count": null,
      "outputs": [
        {
          "output_type": "execute_result",
          "data": {
            "text/plain": [
              "{'java', 'jpeg', 'jpg', 'png', 'sql'}"
            ]
          },
          "metadata": {
            "tags": []
          },
          "execution_count": 12
        }
      ]
    },
    {
      "cell_type": "code",
      "metadata": {
        "colab": {
          "base_uri": "https://localhost:8080/"
        },
        "id": "0JxNu0m-EMvG",
        "outputId": "b702ed29-7822-4dcc-87cd-68ec8f22a876"
      },
      "source": [
        "## Write a python function to return the greatest common divisor (GCD) for two numbers, test the functions.\r\n",
        "def gcd(x, y):\r\n",
        "    gcd = 1\r\n",
        "    \r\n",
        "    if x % y == 0:\r\n",
        "        return y\r\n",
        "    \r\n",
        "    for k in range(int(y / 2), 0, -1):\r\n",
        "        if x % k == 0 and y % k == 0:\r\n",
        "            gcd = k\r\n",
        "            break  \r\n",
        "    return gcd\r\n",
        "\r\n",
        "print(gcd(12, 17))\r\n",
        "print(gcd(4, 6))"
      ],
      "execution_count": null,
      "outputs": [
        {
          "output_type": "stream",
          "text": [
            "1\n",
            "2\n"
          ],
          "name": "stdout"
        }
      ]
    },
    {
      "cell_type": "code",
      "metadata": {
        "colab": {
          "base_uri": "https://localhost:8080/"
        },
        "id": "Cs3LQ7nSHt1q",
        "outputId": "2dd39cbc-7b87-4a8c-a57d-c52845456914"
      },
      "source": [
        "## Write a code to calculate the euclidiean distance between two cordinates, express the cordinates  as list members.\r\n",
        "import math\r\n",
        "p1 = [4, 0]\r\n",
        "p2 = [6, 6]\r\n",
        "distance = math.sqrt( ((p1[0]-p2[0])**2)+((p1[1]-p2[1])**2) )\r\n",
        "\r\n",
        "print(distance)"
      ],
      "execution_count": null,
      "outputs": [
        {
          "output_type": "stream",
          "text": [
            "6.324555320336759\n"
          ],
          "name": "stdout"
        }
      ]
    },
    {
      "cell_type": "code",
      "metadata": {
        "colab": {
          "base_uri": "https://localhost:8080/"
        },
        "id": "17GeB1Z1Ih3U",
        "outputId": "3bdffb84-4fe0-4282-8abe-01a29377418c"
      },
      "source": [
        "## Write a code to see if any file exists in the location.\r\n",
        "import os.path\r\n",
        "open('abc.txt', 'w')\r\n",
        "print(os.path.isfile('abc.txt'))"
      ],
      "execution_count": null,
      "outputs": [
        {
          "output_type": "stream",
          "text": [
            "True\n"
          ],
          "name": "stdout"
        }
      ]
    },
    {
      "cell_type": "code",
      "metadata": {
        "colab": {
          "base_uri": "https://localhost:8080/"
        },
        "id": "3_dP97MDIsnp",
        "outputId": "71ab2c39-8548-42cf-e59c-344ba8a6e64c"
      },
      "source": [
        "## Write a code to find out number of CPU using.\r\n",
        "import multiprocessing\r\n",
        "print(multiprocessing.cpu_count())"
      ],
      "execution_count": null,
      "outputs": [
        {
          "output_type": "stream",
          "text": [
            "2\n"
          ],
          "name": "stdout"
        }
      ]
    },
    {
      "cell_type": "code",
      "metadata": {
        "colab": {
          "base_uri": "https://localhost:8080/"
        },
        "id": "W5yC67P1I7Is",
        "outputId": "896f12c7-3153-4fe7-caac-f781940ef9b4"
      },
      "source": [
        "## Wite a code to find out profiling of python programs.\r\n",
        "import cProfile\r\n",
        "def res():\r\n",
        "    print(100.72*344.87)\r\n",
        "cProfile.run('res()')"
      ],
      "execution_count": null,
      "outputs": [
        {
          "output_type": "stream",
          "text": [
            "34735.3064\n",
            "         39 function calls in 0.000 seconds\n",
            "\n",
            "   Ordered by: standard name\n",
            "\n",
            "   ncalls  tottime  percall  cumtime  percall filename:lineno(function)\n",
            "        1    0.000    0.000    0.000    0.000 <ipython-input-17-a8dede55eddf>:3(res)\n",
            "        1    0.000    0.000    0.000    0.000 <string>:1(<module>)\n",
            "        3    0.000    0.000    0.000    0.000 iostream.py:195(schedule)\n",
            "        2    0.000    0.000    0.000    0.000 iostream.py:307(_is_master_process)\n",
            "        2    0.000    0.000    0.000    0.000 iostream.py:320(_schedule_flush)\n",
            "        2    0.000    0.000    0.000    0.000 iostream.py:382(write)\n",
            "        3    0.000    0.000    0.000    0.000 iostream.py:93(_event_pipe)\n",
            "        3    0.000    0.000    0.000    0.000 socket.py:432(send)\n",
            "        3    0.000    0.000    0.000    0.000 threading.py:1062(_wait_for_tstate_lock)\n",
            "        3    0.000    0.000    0.000    0.000 threading.py:1104(is_alive)\n",
            "        3    0.000    0.000    0.000    0.000 threading.py:506(is_set)\n",
            "        1    0.000    0.000    0.000    0.000 {built-in method builtins.exec}\n",
            "        2    0.000    0.000    0.000    0.000 {built-in method builtins.isinstance}\n",
            "        1    0.000    0.000    0.000    0.000 {built-in method builtins.print}\n",
            "        2    0.000    0.000    0.000    0.000 {built-in method posix.getpid}\n",
            "        3    0.000    0.000    0.000    0.000 {method 'acquire' of '_thread.lock' objects}\n",
            "        3    0.000    0.000    0.000    0.000 {method 'append' of 'collections.deque' objects}\n",
            "        1    0.000    0.000    0.000    0.000 {method 'disable' of '_lsprof.Profiler' objects}\n",
            "\n",
            "\n"
          ],
          "name": "stdout"
        }
      ]
    },
    {
      "cell_type": "code",
      "metadata": {
        "colab": {
          "base_uri": "https://localhost:8080/"
        },
        "id": "vlktFoMUJPJ2",
        "outputId": "31112dbc-f2c8-4d9c-9794-36c0ef7e7f30"
      },
      "source": [
        "## Write a program to get the current user name \r\n",
        "import getpass\r\n",
        "print(getpass.getuser())"
      ],
      "execution_count": null,
      "outputs": [
        {
          "output_type": "stream",
          "text": [
            "root\n"
          ],
          "name": "stdout"
        }
      ]
    },
    {
      "cell_type": "code",
      "metadata": {
        "colab": {
          "base_uri": "https://localhost:8080/"
        },
        "id": "ATntUTV8JavU",
        "outputId": "4364e878-8368-4123-8343-ec860d39deaa"
      },
      "source": [
        "## Write a code to print the URL content to the console.\r\n",
        "from http.client import HTTPConnection\r\n",
        "conn = HTTPConnection(\"google.com\")\r\n",
        "conn.request(\"GET\", \"/\")  \r\n",
        "result = conn.getresponse()\r\n",
        "# retrieves the entire contents.  \r\n",
        "contents = result.read() \r\n",
        "print(contents)"
      ],
      "execution_count": null,
      "outputs": [
        {
          "output_type": "stream",
          "text": [
            "b'<HTML><HEAD><meta http-equiv=\"content-type\" content=\"text/html;charset=utf-8\">\\n<TITLE>301 Moved</TITLE></HEAD><BODY>\\n<H1>301 Moved</H1>\\nThe document has moved\\n<A HREF=\"http://www.google.com/\">here</A>.\\r\\n</BODY></HTML>\\r\\n'\n"
          ],
          "name": "stdout"
        }
      ]
    },
    {
      "cell_type": "code",
      "metadata": {
        "colab": {
          "base_uri": "https://localhost:8080/"
        },
        "id": "sqBL6LhDTHy9",
        "outputId": "58d4b0cd-4339-4d3c-e515-e323d1b99dd6"
      },
      "source": [
        "## write a pyhon function to give the running total and test with with a list.\r\n",
        "from itertools import accumulate\r\n",
        "import operator\r\n",
        "def running_sum(it):\r\n",
        "    return accumulate(it,operator.add)\r\n",
        "\r\n",
        "#List\r\n",
        "result = running_sum([1,2,3,4,5,6,7])\r\n",
        "print(\"Running sum of a list:\")\r\n",
        "for i in result:\r\n",
        "    print(i)"
      ],
      "execution_count": null,
      "outputs": [
        {
          "output_type": "stream",
          "text": [
            "Running sum of a list:\n",
            "1\n",
            "3\n",
            "6\n",
            "10\n",
            "15\n",
            "21\n",
            "28\n"
          ],
          "name": "stdout"
        }
      ]
    },
    {
      "cell_type": "code",
      "metadata": {
        "colab": {
          "base_uri": "https://localhost:8080/"
        },
        "id": "1LDgT-haz9yt",
        "outputId": "c8fac5d7-c9c0-4d51-f877-c2770d783b8d"
      },
      "source": [
        "#Write a Python program to check that a string contains only a certain set of characters (in this case a-z, A-Z and 0-9).\r\n",
        "import re\r\n",
        "def is_allowed_specific_char(string):\r\n",
        "    charRe = re.compile(r'[^a-zA-Z0-9.]')\r\n",
        "    string = charRe.search(string)\r\n",
        "    return not bool(string)\r\n",
        "\r\n",
        "print(is_allowed_specific_char(\"ABCDEFabcdef123450\")) \r\n",
        "print(is_allowed_specific_char(\"*&%@#!}{\"))"
      ],
      "execution_count": null,
      "outputs": [
        {
          "output_type": "stream",
          "text": [
            "True\n",
            "False\n"
          ],
          "name": "stdout"
        }
      ]
    },
    {
      "cell_type": "code",
      "metadata": {
        "colab": {
          "base_uri": "https://localhost:8080/"
        },
        "id": "TIAmwJgX0Krg",
        "outputId": "1b5d3b73-de87-470c-a07a-f7ba072c46ac"
      },
      "source": [
        "#Write a Python program that iterate over elements repeating each as many times as its count.\r\n",
        "from collections import Counter\r\n",
        "c = Counter(p=4, q=2, r=0, s=-2)\r\n",
        "print(list(c.elements()))\r\n"
      ],
      "execution_count": null,
      "outputs": [
        {
          "output_type": "stream",
          "text": [
            "['p', 'p', 'p', 'p', 'q', 'q']\n"
          ],
          "name": "stdout"
        }
      ]
    },
    {
      "cell_type": "code",
      "metadata": {
        "colab": {
          "base_uri": "https://localhost:8080/"
        },
        "id": "9reFpz1q1GS3",
        "outputId": "12e8c0c0-c657-432a-ee10-b41f31a8ae70"
      },
      "source": [
        "## find the most common words in a sentence.\r\n",
        "from collections import Counter\r\n",
        "import re\r\n",
        "text = \"\"\"The start of T20 in a way revolutionised the cricket industry for good.  When we say this it is not just in terms of sports, fame, and viewership but also how it pumped up cricketer’s income. There are various leagues like BBL, IPL, CPL, PSL, and BPL which are pulling several big names across the globe which automatically helps in garnering massive revenue.\r\n",
        "\r\n",
        "With the genesis of T20 cricket, cricket has witnessed revolutionary changes in terms of the popularity of the sport and the income earned by cricketers. The format has brought in a fast-moving, entertaining form of cricket to the world, forcing batsmen and bowlers to garner out-of-the-box solutions to counter the attacking prowess of the opponent..\"\"\"\r\n",
        "words = re.findall('\\w+',text)\r\n",
        "print(Counter(words).most_common(10))"
      ],
      "execution_count": null,
      "outputs": [
        {
          "output_type": "stream",
          "text": [
            "[('the', 10), ('of', 8), ('in', 5), ('cricket', 4), ('and', 4), ('to', 3), ('The', 2), ('T20', 2), ('a', 2), ('it', 2)]\n"
          ],
          "name": "stdout"
        }
      ]
    },
    {
      "cell_type": "code",
      "metadata": {
        "colab": {
          "base_uri": "https://localhost:8080/"
        },
        "id": "nIQPWpwi1yev",
        "outputId": "fc8f0f9d-f44e-444d-94e3-a51f8c2fd93e"
      },
      "source": [
        "#Write a Python program to find the most common elements and their counts of a specified text.\r\n",
        "from collections import Counter\r\n",
        "s = 'lkseropewdssafsdfafkpwe'\r\n",
        "print(\"Original string: \"+s)\r\n",
        "print(\"Most common three characters of the said string:\")\r\n",
        "print(Counter(s).most_common(3))"
      ],
      "execution_count": null,
      "outputs": [
        {
          "output_type": "stream",
          "text": [
            "Original string: lkseropewdssafsdfafkpwe\n",
            "Most common three characters of the said string:\n",
            "[('s', 4), ('e', 3), ('f', 3)]\n"
          ],
          "name": "stdout"
        }
      ]
    },
    {
      "cell_type": "code",
      "metadata": {
        "colab": {
          "base_uri": "https://localhost:8080/"
        },
        "id": "owCeEBl42O4J",
        "outputId": "4fae11f9-76e4-4d1b-bc6b-ce4797dea36a"
      },
      "source": [
        "## Write a code to merge two dictionaries \r\n",
        "import collections as ct\r\n",
        "def merge_dictionaries(color1,color2):\r\n",
        "    merged_dict = dict(ct.ChainMap({}, color1, color2))\r\n",
        "    return merged_dict\r\n",
        "color1 = { \"R\": \"Red\", \"B\": \"Black\", \"P\": \"Pink\" }\r\n",
        "color2 = { \"G\": \"Green\", \"W\": \"White\" }\r\n",
        "print(\"Original dictionaries:\")\r\n",
        "print(color1,' ',color2)\r\n",
        "print(\"\\nMerged dictionary:\")\r\n",
        "print(merge_dictionaries(color1, color2))"
      ],
      "execution_count": null,
      "outputs": [
        {
          "output_type": "stream",
          "text": [
            "Original dictionaries:\n",
            "{'R': 'Red', 'B': 'Black', 'P': 'Pink'}   {'G': 'Green', 'W': 'White'}\n",
            "\n",
            "Merged dictionary:\n",
            "{'W': 'White', 'G': 'Green', 'R': 'Red', 'P': 'Pink', 'B': 'Black'}\n"
          ],
          "name": "stdout"
        }
      ]
    },
    {
      "cell_type": "code",
      "metadata": {
        "colab": {
          "base_uri": "https://localhost:8080/"
        },
        "id": "QBP-5bq06lrV",
        "outputId": "5fb54fb7-11a3-41dc-b99f-3764af8d9ca0"
      },
      "source": [
        "## write a code to print count of each element in the list.\r\n",
        "sampleList = [11, 45, 8, 11, 23, 45, 23, 45, 89]\r\n",
        "print(\"Original list \", sampleList)\r\n",
        "\r\n",
        "countDict = dict()\r\n",
        "for item in sampleList:\r\n",
        "  if(item in countDict):\r\n",
        "    countDict[item] += 1\r\n",
        "  else:\r\n",
        "    countDict[item] = 1\r\n",
        "  \r\n",
        "print(\"Printing count of each item  \",countDict)"
      ],
      "execution_count": null,
      "outputs": [
        {
          "output_type": "stream",
          "text": [
            "Original list  [11, 45, 8, 11, 23, 45, 23, 45, 89]\n",
            "Printing count of each item   {11: 2, 45: 3, 8: 1, 23: 2, 89: 1}\n"
          ],
          "name": "stdout"
        }
      ]
    },
    {
      "cell_type": "code",
      "metadata": {
        "colab": {
          "base_uri": "https://localhost:8080/"
        },
        "id": "OT5vYK7X752N",
        "outputId": "f2683fa4-f312-49ce-ce0b-37f35cb6d8a1"
      },
      "source": [
        "##Given a following two sets find the intersection and remove those elements from the first set\r\n",
        "firstSet  = {23, 42, 65, 57, 78, 83, 29}\r\n",
        "secondSet = {57, 83, 29, 67, 73, 43, 48}\r\n",
        "print(\"First Set \", firstSet)\r\n",
        "print(\"Second Set \", secondSet)\r\n",
        "\r\n",
        "intersection = firstSet.intersection(secondSet)\r\n",
        "print(\"Intersection is \", intersection)\r\n",
        "for item in intersection:\r\n",
        "  firstSet.remove(item)\r\n",
        "\r\n",
        "print(\"First Set after removing common element \", firstSet)"
      ],
      "execution_count": null,
      "outputs": [
        {
          "output_type": "stream",
          "text": [
            "First Set  {65, 42, 78, 83, 23, 57, 29}\n",
            "Second Set  {67, 73, 43, 48, 83, 57, 29}\n",
            "Intersection is  {57, 83, 29}\n",
            "First Set after removing common element  {65, 42, 78, 23}\n"
          ],
          "name": "stdout"
        }
      ]
    },
    {
      "cell_type": "code",
      "metadata": {
        "colab": {
          "base_uri": "https://localhost:8080/"
        },
        "id": "AdeeMmbA8Hd5",
        "outputId": "859ecb93-ac87-4b82-ac47-67fe8aa48e39"
      },
      "source": [
        "##Given two sets, Checks if One Set is Subset or superset of Another Set. if the subset is found delete all elements from that set\r\n",
        "firstSet  = {57, 83, 29}\r\n",
        "secondSet = {57, 83, 29, 67, 73, 43, 48}\r\n",
        "\r\n",
        "print(\"First Set \", firstSet)\r\n",
        "print(\"Second Set \", secondSet)\r\n",
        "\r\n",
        "print(\"First set is subset of second set -\", firstSet.issubset(secondSet))\r\n",
        "print(\"Second set is subset of First set - \", secondSet.issubset(firstSet))\r\n",
        "\r\n",
        "print(\"First set is Super set of second set - \", firstSet.issuperset(secondSet))\r\n",
        "print(\"Second set is Super set of First set - \", secondSet.issuperset(firstSet))\r\n",
        "\r\n",
        "if(firstSet.issubset(secondSet)):\r\n",
        "  firstSet.clear()\r\n",
        "  \r\n",
        "if(secondSet.issubset(firstSet)):\r\n",
        "  secondSet.clear()\r\n",
        "print(\"First Set \", firstSet)\r\n",
        "print(\"Second Set \", secondSet)"
      ],
      "execution_count": null,
      "outputs": [
        {
          "output_type": "stream",
          "text": [
            "First Set  {57, 83, 29}\n",
            "Second Set  {67, 73, 43, 48, 83, 57, 29}\n",
            "First set is subset of second set - True\n",
            "Second set is subset of First set -  False\n",
            "First set is Super set of second set -  False\n",
            "Second set is Super set of First set -  True\n",
            "First Set  set()\n",
            "Second Set  {67, 73, 43, 48, 83, 57, 29}\n"
          ],
          "name": "stdout"
        }
      ]
    },
    {
      "cell_type": "code",
      "metadata": {
        "colab": {
          "base_uri": "https://localhost:8080/"
        },
        "id": "guQuR6fgAEby",
        "outputId": "ec110bd5-8ea7-46ea-e977-07b163443f0d"
      },
      "source": [
        "\"\"\"\r\n",
        "Write a program that accepts a comma separated sequence of words as input and prints the words in a comma-separated sequence after sorting them alphabetically.\r\n",
        "Suppose the following input is supplied to the program:\r\n",
        "without,hello,bag,world\r\n",
        "Then, the output should be:\r\n",
        "bag,hello,without,world\r\n",
        "\"\"\"\r\n",
        "r_input='without,hello,bag,world'\r\n",
        "\r\n",
        "items=[x for x in r_input.split(',')]\r\n",
        "items.sort()\r\n",
        "print (','.join(items))"
      ],
      "execution_count": null,
      "outputs": [
        {
          "output_type": "stream",
          "text": [
            "bag,hello,without,world\n"
          ],
          "name": "stdout"
        }
      ]
    },
    {
      "cell_type": "code",
      "metadata": {
        "colab": {
          "base_uri": "https://localhost:8080/"
        },
        "id": "Xmzw0cxwBj_P",
        "outputId": "d13d09ec-8415-4006-d6eb-6b8ffc856e87"
      },
      "source": [
        "##Write a program that accepts a sequence of whitespace separated words as input and prints the words after removing all duplicate words and sorting them alphanumerically.\r\n",
        "##Suppose the following input is supplied to the program:\r\n",
        "##hello world and practice makes perfect and hello world again\r\n",
        "##Then, the output should be:\r\n",
        "##again and hello makes perfect practice world\r\n",
        "\r\n",
        "s = 'hello world and practice makes perfect and hello world again'\r\n",
        "words = [word for word in s.split(\" \")]\r\n",
        "print(\" \".join(sorted(list(set(words)))))"
      ],
      "execution_count": null,
      "outputs": [
        {
          "output_type": "stream",
          "text": [
            "again and hello makes perfect practice world\n"
          ],
          "name": "stdout"
        }
      ]
    },
    {
      "cell_type": "code",
      "metadata": {
        "colab": {
          "base_uri": "https://localhost:8080/"
        },
        "id": "RIuK2OOaCiMc",
        "outputId": "da68e7f6-fea4-47a2-df4f-3bf691404340"
      },
      "source": [
        "#Write a program that accepts a sentence and calculate the number of letters and digits.\r\n",
        "#Suppose the following input is supplied to the program:\r\n",
        "#hello world! 123\r\n",
        "#Then, the output should be:\r\n",
        "##LETTERS 10\r\n",
        "#DIGITS 3\r\n",
        "\r\n",
        "s = 'mai to raste se ja raha tha #nh247'\r\n",
        "d={\"DIGITS\":0, \"LETTERS\":0}\r\n",
        "for c in s:\r\n",
        "    if c.isdigit():\r\n",
        "        d[\"DIGITS\"]+=1\r\n",
        "    elif c.isalpha():\r\n",
        "        d[\"LETTERS\"]+=1\r\n",
        "    else:\r\n",
        "        pass\r\n",
        "print (\"LETTERS\", d[\"LETTERS\"])\r\n",
        "print (\"DIGITS\", d[\"DIGITS\"])"
      ],
      "execution_count": null,
      "outputs": [
        {
          "output_type": "stream",
          "text": [
            "LETTERS 23\n",
            "DIGITS 3\n"
          ],
          "name": "stdout"
        }
      ]
    },
    {
      "cell_type": "code",
      "metadata": {
        "colab": {
          "base_uri": "https://localhost:8080/"
        },
        "id": "hllf-cQqDVN1",
        "outputId": "3e340efc-49ae-4ccb-8a4e-53e81312489b"
      },
      "source": [
        "#write a code which uses a list comprehension to square each odd number in a list. The list is input by a sequence of comma-separated numbers.\r\n",
        "\r\n",
        "values = '1,2,3,4,5,6,7,8,9'\r\n",
        "numbers = [x for x in values.split(\",\") if int(x)%2!=0]\r\n",
        "print(\",\".join(numbers))"
      ],
      "execution_count": null,
      "outputs": [
        {
          "output_type": "stream",
          "text": [
            "1,3,5,7,9\n"
          ],
          "name": "stdout"
        }
      ]
    },
    {
      "cell_type": "code",
      "metadata": {
        "colab": {
          "base_uri": "https://localhost:8080/"
        },
        "id": "UQk6F3HId97f",
        "outputId": "4c963871-4e15-49d8-8759-e4dbf45d7ab4"
      },
      "source": [
        "#Write a program to compute the frequency of the words from the input. The output should output after sorting the key alphanumerically. \r\n",
        "\r\n",
        "raw_input='New to Python or choosing between Python 2 and Python 3? Read Python 2 or Python 3.'\r\n",
        "\r\n",
        "freq = {}   # frequency of words in text\r\n",
        "line = raw_input\r\n",
        "for word in line.split():\r\n",
        "    freq[word] = freq.get(word,0)+1\r\n",
        "\r\n",
        "words = freq.keys()\r\n",
        "\r\n",
        "for w in words:\r\n",
        "    print (\"%s:%d\" % (w,freq[w]))"
      ],
      "execution_count": null,
      "outputs": [
        {
          "output_type": "stream",
          "text": [
            "New:1\n",
            "to:1\n",
            "Python:5\n",
            "or:2\n",
            "choosing:1\n",
            "between:1\n",
            "2:2\n",
            "and:1\n",
            "3?:1\n",
            "Read:1\n",
            "3.:1\n"
          ],
          "name": "stdout"
        }
      ]
    },
    {
      "cell_type": "code",
      "metadata": {
        "colab": {
          "base_uri": "https://localhost:8080/"
        },
        "id": "KWTK8pAeemUD",
        "outputId": "62fb796d-ded5-4a20-f44a-08dc4e3ec6eb"
      },
      "source": [
        "\r\n",
        "#Define a function that can accept two strings as input and print the string with maximum length in console. \r\n",
        "#If two strings have the same length, then the function should print al l strings line by line.\r\n",
        "def printValue(s1,s2):\r\n",
        "\tlen1 = len(s1)\r\n",
        "\tlen2 = len(s2)\r\n",
        "\tif len1>len2:\r\n",
        "\t\tprint (s1)\r\n",
        "\telif len2>len1:\r\n",
        "\t\tprint (s2)\r\n",
        "\telse:\r\n",
        "\t\tprint (s1)\r\n",
        "\t\tprint (s2)\r\n",
        "\t\t\r\n",
        "printValue(\"one\",\"three\")"
      ],
      "execution_count": null,
      "outputs": [
        {
          "output_type": "stream",
          "text": [
            "three\n"
          ],
          "name": "stdout"
        }
      ]
    },
    {
      "cell_type": "code",
      "metadata": {
        "colab": {
          "base_uri": "https://localhost:8080/"
        },
        "id": "NfdF1c3vfAm4",
        "outputId": "b878d8d3-9fc6-43d8-cacb-6e6de124a888"
      },
      "source": [
        "#Define a function which can generate a dictionary where the keys are numbers between 1 and 20 (both included) and the values are square of keys. The function should just print the values only.\r\n",
        "\r\n",
        "def printDict():\r\n",
        "\td=dict()\r\n",
        "\tfor i in range(1,21):\r\n",
        "\t\td[i]=i**2\r\n",
        "\tfor (k,v) in d.items():\t\r\n",
        "\t\tprint( v)\r\n",
        "\t\t\r\n",
        "\r\n",
        "printDict()"
      ],
      "execution_count": null,
      "outputs": [
        {
          "output_type": "stream",
          "text": [
            "1\n",
            "4\n",
            "9\n",
            "16\n",
            "25\n",
            "36\n",
            "49\n",
            "64\n",
            "81\n",
            "100\n",
            "121\n",
            "144\n",
            "169\n",
            "196\n",
            "225\n",
            "256\n",
            "289\n",
            "324\n",
            "361\n",
            "400\n"
          ],
          "name": "stdout"
        }
      ]
    },
    {
      "cell_type": "code",
      "metadata": {
        "colab": {
          "base_uri": "https://localhost:8080/"
        },
        "id": "PTmmchahfRUp",
        "outputId": "466c5de2-742e-4799-be2b-78982ce49461"
      },
      "source": [
        "\r\n",
        "#Write a program which can filter even numbers in a list by using filter function. The list is: [1,2,3,4,5,6,7,8,9,10].\r\n",
        "\r\n",
        "li = [1,2,3,4,5,6,7,8,9,10]\r\n",
        "evenNumbers = filter(lambda x: x%2==0, li)\r\n",
        "print(evenNumbers)\r\n"
      ],
      "execution_count": null,
      "outputs": [
        {
          "output_type": "stream",
          "text": [
            "<filter object at 0x7f35d12826a0>\n"
          ],
          "name": "stdout"
        }
      ]
    },
    {
      "cell_type": "code",
      "metadata": {
        "colab": {
          "base_uri": "https://localhost:8080/"
        },
        "id": "5XgrOlbDfpwN",
        "outputId": "c97abd4a-d38b-4251-b39a-610740402080"
      },
      "source": [
        "#Define a class named Circle which can be constructed by a radius. The Circle class has a method which can compute the area. \r\n",
        "\r\n",
        "class Circle(object):\r\n",
        "    def __init__(self, r):\r\n",
        "        self.radius = r\r\n",
        "\r\n",
        "    def area(self):\r\n",
        "        return self.radius**2*3.14\r\n",
        "\r\n",
        "aCircle = Circle(2)\r\n",
        "print (aCircle.area())\r\n"
      ],
      "execution_count": null,
      "outputs": [
        {
          "output_type": "stream",
          "text": [
            "12.56\n"
          ],
          "name": "stdout"
        }
      ]
    },
    {
      "cell_type": "code",
      "metadata": {
        "colab": {
          "base_uri": "https://localhost:8080/"
        },
        "id": "7LNL-Ik-f_GI",
        "outputId": "190fd3dd-7091-4d2a-fc19-63795c43e9d5"
      },
      "source": [
        "#Define a class named Rectangle which can be constructed by a length and width. The Rectangle class has a method which can compute the area. \r\n",
        "\r\n",
        "class Rectangle(object):\r\n",
        "    def __init__(self, l, w):\r\n",
        "        self.length = l\r\n",
        "        self.width  = w\r\n",
        "\r\n",
        "    def area(self):\r\n",
        "        return self.length*self.width\r\n",
        "\r\n",
        "aRectangle = Rectangle(2,10)\r\n",
        "print(aRectangle.area())"
      ],
      "execution_count": null,
      "outputs": [
        {
          "output_type": "stream",
          "text": [
            "20\n"
          ],
          "name": "stdout"
        }
      ]
    },
    {
      "cell_type": "code",
      "metadata": {
        "colab": {
          "base_uri": "https://localhost:8080/"
        },
        "id": "DurjGRZ2gK-N",
        "outputId": "0ce6ece9-5bcf-48f9-d477-cb34b0de66b2"
      },
      "source": [
        "#Write a function to compute 5/0 and use try/except to catch the exceptions.\r\n",
        "\r\n",
        "def throws():\r\n",
        "    return 5/0\r\n",
        "\r\n",
        "try:\r\n",
        "    throws()\r\n",
        "except ZeroDivisionError:\r\n",
        "    print (\"division by zero!\")\r\n",
        "except Exception:\r\n",
        "    print ('Caught an exception')\r\n",
        "finally:\r\n",
        "    print ('In finally block for cleanup')\r\n"
      ],
      "execution_count": null,
      "outputs": [
        {
          "output_type": "stream",
          "text": [
            "division by zero!\n",
            "In finally block for cleanup\n"
          ],
          "name": "stdout"
        }
      ]
    },
    {
      "cell_type": "code",
      "metadata": {
        "colab": {
          "base_uri": "https://localhost:8080/"
        },
        "id": "GR-6WbV_gdMU",
        "outputId": "6df473b7-86ae-4ddf-aaeb-5bcf7f268274"
      },
      "source": [
        "#Assuming that we have some email addresses in the \"username@companyname.com\" format, please write program to print the company name of a given email address. Both user names and company names are composed of letters only.\r\n",
        "\r\n",
        "\r\n",
        "raw_input='user@company.com'\r\n",
        "\r\n",
        "import re\r\n",
        "emailAddress = raw_input\r\n",
        "pat2 = \"(\\w+)@(\\w+)\\.(com)\"\r\n",
        "r2 = re.match(pat2,emailAddress)\r\n",
        "print (r2.group(2))"
      ],
      "execution_count": null,
      "outputs": [
        {
          "output_type": "stream",
          "text": [
            "company\n"
          ],
          "name": "stdout"
        }
      ]
    },
    {
      "cell_type": "code",
      "metadata": {
        "colab": {
          "base_uri": "https://localhost:8080/"
        },
        "id": "R-xzTDXQhE5w",
        "outputId": "b156b954-ec7b-41c4-b22c-4212b74acf35"
      },
      "source": [
        "#Write a program which accepts a sequence of words separated by whitespace as input to print the words composed of digits only.\r\n",
        "\r\n",
        "raw_input='7 bad habbits of 9 ineffective people, 1 should be procrastination'\r\n",
        "import re\r\n",
        "s = raw_input\r\n",
        "print(re.findall(\"\\d+\",s))"
      ],
      "execution_count": null,
      "outputs": [
        {
          "output_type": "stream",
          "text": [
            "['7', '9', '1']\n"
          ],
          "name": "stdout"
        }
      ]
    },
    {
      "cell_type": "code",
      "metadata": {
        "colab": {
          "base_uri": "https://localhost:8080/"
        },
        "id": "eE7Ce80MhY6x",
        "outputId": "cad3175e-f819-411c-820a-e9cb9995b2f6"
      },
      "source": [
        "#Please write a binary search function which searches an item in a sorted list. The function should return the index of element to be searched in the list.\r\n",
        "\r\n",
        "import math\r\n",
        "def bin_search(li, element):\r\n",
        "    bottom = 0\r\n",
        "    top = len(li)-1\r\n",
        "    index = -1\r\n",
        "    while top>=bottom and index==-1:\r\n",
        "        mid = int(math.floor((top+bottom)/2.0))\r\n",
        "        if li[mid]==element:\r\n",
        "            index = mid\r\n",
        "        elif li[mid]>element:\r\n",
        "            top = mid-1\r\n",
        "        else:\r\n",
        "            bottom = mid+1\r\n",
        "\r\n",
        "    return index\r\n",
        "\r\n",
        "li=[2,5,7,9,11,17,222]\r\n",
        "print (bin_search(li,11))\r\n",
        "print (bin_search(li,12))"
      ],
      "execution_count": null,
      "outputs": [
        {
          "output_type": "stream",
          "text": [
            "4\n",
            "-1\n"
          ],
          "name": "stdout"
        }
      ]
    },
    {
      "cell_type": "code",
      "metadata": {
        "colab": {
          "base_uri": "https://localhost:8080/"
        },
        "id": "wuuBhwnLom7p",
        "outputId": "95521c86-e9f4-41cf-b664-90a46b0d4693"
      },
      "source": [
        "#Please generate a random float where the value is between 10 and 100 using Python math module.\r\n",
        "import random\r\n",
        "print (random.random()*100)"
      ],
      "execution_count": null,
      "outputs": [
        {
          "output_type": "stream",
          "text": [
            "43.452726663473065\n"
          ],
          "name": "stdout"
        }
      ]
    },
    {
      "cell_type": "code",
      "metadata": {
        "id": "al2r0pEPpDBQ"
      },
      "source": [
        "#Please write a program to compress and decompress the string \"hello world!hello world!hello world!hello world!\".\r\n",
        "import zlib\r\n",
        "s = \"hello world!hello world!hello world!hello world!\"\r\n",
        "t = zlib.compress(s)\r\n",
        "print (t)\r\n",
        "print (zlib.decompress(t))\r\n",
        "\r\n",
        "print (random.choice([i for i in range(11) if i%2==0])"
      ],
      "execution_count": null,
      "outputs": []
    },
    {
      "cell_type": "code",
      "metadata": {
        "colab": {
          "base_uri": "https://localhost:8080/"
        },
        "id": "mR07QP6cpN_5",
        "outputId": "e456d762-81e5-45ec-bf29-fc29992d8c68"
      },
      "source": [
        "# write a program which accepts a string from console and print it in reverse order.\r\n",
        "raw_input='my name is, well whats there in the name '\r\n",
        "\r\n",
        "s=raw_input\r\n",
        "s = s[::-1]\r\n",
        "print (s)"
      ],
      "execution_count": null,
      "outputs": [
        {
          "output_type": "stream",
          "text": [
            " eman eht ni ereht stahw llew ,si eman ym\n"
          ],
          "name": "stdout"
        }
      ]
    },
    {
      "cell_type": "code",
      "metadata": {
        "colab": {
          "base_uri": "https://localhost:8080/"
        },
        "id": "GaTP95ncqYtz",
        "outputId": "bf7a0ead-88e8-43bc-eae9-fa3e0875a353"
      },
      "source": [
        "#write a program which prints all permutations of [1,2,3]\r\n",
        "\r\n",
        "import itertools\r\n",
        "print (list(itertools.permutations([1,2,3])))"
      ],
      "execution_count": null,
      "outputs": [
        {
          "output_type": "stream",
          "text": [
            "[(1, 2, 3), (1, 3, 2), (2, 1, 3), (2, 3, 1), (3, 1, 2), (3, 2, 1)]\n"
          ],
          "name": "stdout"
        }
      ]
    },
    {
      "cell_type": "code",
      "metadata": {
        "id": "QVtY01z5qYxR",
        "colab": {
          "base_uri": "https://localhost:8080/"
        },
        "outputId": "8e40ad3d-70f4-4122-900a-e3f92004e470"
      },
      "source": [
        "#Write a funtion  which can compute the factorial of a given numbers.\r\n",
        "\r\n",
        "def fact(x):\r\n",
        "    if x == 0:\r\n",
        "        return 1\r\n",
        "    return x * fact(x - 1)\r\n",
        "\r\n",
        "x=int(9)\r\n",
        "fact(x)"
      ],
      "execution_count": null,
      "outputs": [
        {
          "output_type": "execute_result",
          "data": {
            "text/plain": [
              "362880"
            ]
          },
          "metadata": {
            "tags": []
          },
          "execution_count": 37
        }
      ]
    },
    {
      "cell_type": "code",
      "metadata": {
        "colab": {
          "base_uri": "https://localhost:8080/"
        },
        "id": "vBXHGCUsuddA",
        "outputId": "b81bd396-ddcc-4ff2-aa9b-b3524bc474a2"
      },
      "source": [
        "#Write a program that accepts a sentence and calculate the number of upper case letters and lower case letters.\r\n",
        "\r\n",
        "s = 'This Is tHe SEntencE'\r\n",
        "d={\"UPPER CASE\":0, \"LOWER CASE\":0}\r\n",
        "for c in s:\r\n",
        "    if c.isupper():\r\n",
        "        d[\"UPPER CASE\"]+=1\r\n",
        "    elif c.islower():\r\n",
        "        d[\"LOWER CASE\"]+=1\r\n",
        "    else:\r\n",
        "        pass\r\n",
        "print (\"UPPER CASE\", d[\"UPPER CASE\"])\r\n",
        "print (\"LOWER CASE\", d[\"LOWER CASE\"])"
      ],
      "execution_count": null,
      "outputs": [
        {
          "output_type": "stream",
          "text": [
            "UPPER CASE 6\n",
            "LOWER CASE 11\n"
          ],
          "name": "stdout"
        }
      ]
    },
    {
      "cell_type": "code",
      "metadata": {
        "colab": {
          "base_uri": "https://localhost:8080/"
        },
        "id": "kztMj_5Zu8th",
        "outputId": "dfeb96ec-24ec-4fea-d035-d0a362ccb775"
      },
      "source": [
        "\"\"\"\r\n",
        "A website requires the users to input username and password to register. Write a program to check the validity of password input by users.\r\n",
        "Following are the criteria for checking the password:\r\n",
        "1. At least 1 letter between [a-z]\r\n",
        "2. At least 1 number between [0-9]\r\n",
        "1. At least 1 letter between [A-Z]\r\n",
        "3. At least 1 character from [$#@]\r\n",
        "4. Minimum length of transaction password: 6\r\n",
        "5. Maximum length of transaction password: 12\r\n",
        "Your program should accept a sequence of comma separated passwords and will check them according to the above criteria. Passwords that match the criteria are to be printed, each separated by a comma.\r\n",
        "Example\r\n",
        "If the following passwords are given as input to the program:\r\n",
        "ABd1234@1,a F1#,2w3E*,2We3345\r\n",
        "Then, the output of the program should be:\r\n",
        "ABd1234@1\r\n",
        "\"\"\"\r\n",
        "r_input='Wak3n@9ends'\r\n",
        "import re\r\n",
        "value = []\r\n",
        "items=[x for x in r_input.split(',')]\r\n",
        "for p in items:\r\n",
        "    if len(p)<6 or len(p)>12:\r\n",
        "        continue\r\n",
        "    else:\r\n",
        "        pass\r\n",
        "    if not re.search(\"[a-z]\",p):\r\n",
        "        continue\r\n",
        "    elif not re.search(\"[0-9]\",p):\r\n",
        "        continue\r\n",
        "    elif not re.search(\"[A-Z]\",p):\r\n",
        "        continue\r\n",
        "    elif not re.search(\"[$#@]\",p):\r\n",
        "        continue\r\n",
        "    elif re.search(\"\\s\",p):\r\n",
        "        continue\r\n",
        "    else:\r\n",
        "        pass\r\n",
        "    value.append(p)\r\n",
        "print (\",\".join(value))\r\n",
        "#---------------"
      ],
      "execution_count": null,
      "outputs": [
        {
          "output_type": "stream",
          "text": [
            "Wak3n@9ends\n"
          ],
          "name": "stdout"
        }
      ]
    },
    {
      "cell_type": "code",
      "metadata": {
        "id": "L4VvCG1fvqqX",
        "colab": {
          "base_uri": "https://localhost:8080/"
        },
        "outputId": "8346dfda-4772-47cd-ed64-1e29ad2a4a0b"
      },
      "source": [
        "#Define a class Person and its two child classes: Male and Female. All classes have a method \"getGender\" which can print \"Male\" for Male class and \"Female\" for Female class.\r\n",
        "\r\n",
        "class Person(object):\r\n",
        "    def getGender(self):\r\n",
        "        return \"Unknown\"\r\n",
        "\r\n",
        "\r\n",
        "class Male(Person):\r\n",
        "    def getGender(self):\r\n",
        "        return \"Male\"\r\n",
        "\r\n",
        "\r\n",
        "class Female(Person):\r\n",
        "    def getGender(self):\r\n",
        "        return \"Female\"\r\n",
        "\r\n",
        "\r\n",
        "aMale = Male()\r\n",
        "aFemale = Female()\r\n",
        "print(aMale.getGender())\r\n",
        "print(aFemale.getGender())"
      ],
      "execution_count": null,
      "outputs": [
        {
          "output_type": "stream",
          "text": [
            "Male\n",
            "Female\n"
          ],
          "name": "stdout"
        }
      ]
    },
    {
      "cell_type": "code",
      "metadata": {
        "id": "WzwuJD85JOen"
      },
      "source": [
        "## Write a program to find the resolution of an image.\r\n",
        "def jpeg_res(filename):\r\n",
        "   \"\"\"\"This function prints the resolution of the jpeg image file passed into it\"\"\"\r\n",
        "\r\n",
        "   # open image for reading in binary mode\r\n",
        "   with open(filename,'rb') as img_file:\r\n",
        "\r\n",
        "       # height of image (in 2 bytes) is at 164th position\r\n",
        "       img_file.seek(163)\r\n",
        "\r\n",
        "       # read the 2 bytes\r\n",
        "       a = img_file.read(2)\r\n",
        "\r\n",
        "       # calculate height\r\n",
        "       height = (a[0] << 8) + a[1]\r\n",
        "\r\n",
        "       # next 2 bytes is width\r\n",
        "       a = img_file.read(2)\r\n",
        "\r\n",
        "       # calculate width\r\n",
        "       width = (a[0] << 8) + a[1]\r\n",
        "\r\n",
        "   print(\"The resolution of the image is\",width,\"x\",height)\r\n",
        "\r\n",
        "jpeg_res(\"img1.jpg\")"
      ],
      "execution_count": null,
      "outputs": []
    },
    {
      "cell_type": "code",
      "metadata": {
        "id": "4aHNBcmUK2np"
      },
      "source": [
        "## Create a stop watch using python.\r\n",
        "# importing the time module \r\n",
        "import time\r\n",
        "\r\n",
        "print(\"Press ENTER to start the stopwatch\")\r\n",
        "print(\"and, press CTRL + C to stop the stopwatch\")\r\n",
        "\r\n",
        "# infinite loop\r\n",
        "while True:\r\n",
        "    try:\r\n",
        "        input() #For ENTER\r\n",
        "        start_time = time.time()\r\n",
        "        print(\"Stopwatch started...\")\r\n",
        "        \r\n",
        "    except KeyboardInterrupt:\r\n",
        "        print(\"Stopwatch stopped...\")\r\n",
        "        end_time = time.time()\r\n",
        "        print(\"The total time:\", round(end_time - start_time, 2),\"seconds\")\r\n",
        "        break # breaking the loop"
      ],
      "execution_count": null,
      "outputs": []
    },
    {
      "cell_type": "code",
      "metadata": {
        "colab": {
          "base_uri": "https://localhost:8080/"
        },
        "id": "EmnvnPJWK37Z",
        "outputId": "4e54b6f6-02f2-4efc-bd67-0e2fc95fb0ae"
      },
      "source": [
        "## Write a python function to find the standard deviation.\r\n",
        "def stdv(X):\r\n",
        "    mean = sum(X)/len(X)\r\n",
        "    tot = 0.0\r\n",
        "    for x in X:\r\n",
        "        tot = tot + (x - mean)**2\r\n",
        "    return (tot/len(X))**0.5\r\n",
        "\r\n",
        "# main code\r\n",
        "#  a simple data-set \r\n",
        "sample = [1, 2, 3, 4, 5] \r\n",
        "print(\"Standard Deviation of the sample is: \", stdv(sample))\r\n",
        "\r\n",
        "sample = [1, 2, 3, -4, -5] \r\n",
        "print(\"Standard Deviation of the sample is: \", stdv(sample))\r\n",
        "\r\n",
        "sample = [10, -20, 30, -40, 50] \r\n",
        "print(\"Standard Deviation of the sample is: \", stdv(sample))"
      ],
      "execution_count": null,
      "outputs": [
        {
          "output_type": "stream",
          "text": [
            "Standard Deviation of the sample is:  1.4142135623730951\n",
            "Standard Deviation of the sample is:  3.2619012860600183\n",
            "Standard Deviation of the sample is:  32.61901286060018\n"
          ],
          "name": "stdout"
        }
      ]
    },
    {
      "cell_type": "code",
      "metadata": {
        "colab": {
          "base_uri": "https://localhost:8080/"
        },
        "id": "ykLZmKVhLFAB",
        "outputId": "ac40e852-2a65-4e0b-add3-b26e551c902a"
      },
      "source": [
        "## Write a function to find the variance.\r\n",
        "def variance(X):\r\n",
        "    mean = sum(X)/len(X)\r\n",
        "    tot = 0.0\r\n",
        "    for x in X:\r\n",
        "        tot = tot + (x - mean)**2\r\n",
        "    return tot/len(X)\r\n",
        "\r\n",
        "# main code\r\n",
        "#  a simple data-set \r\n",
        "sample = [1, 2, 3, 4, 5] \r\n",
        "print(\"variance of the sample is: \", variance(sample))\r\n",
        "\r\n",
        "sample = [1, 2, 3, -4, -5] \r\n",
        "print(\"variance of the sample is: \", variance(sample))\r\n",
        "\r\n",
        "sample = [10, -20, 30, -40, 50] \r\n",
        "print(\"variance of the sample is: \", variance(sample))"
      ],
      "execution_count": null,
      "outputs": [
        {
          "output_type": "stream",
          "text": [
            "variance of the sample is:  2.0\n",
            "variance of the sample is:  10.64\n",
            "variance of the sample is:  1064.0\n"
          ],
          "name": "stdout"
        }
      ]
    },
    {
      "cell_type": "code",
      "metadata": {
        "colab": {
          "base_uri": "https://localhost:8080/"
        },
        "id": "yhs9j0WWLNSt",
        "outputId": "6c6d56d3-0e58-4408-dba9-ba8cf8bd773f"
      },
      "source": [
        "## Write a code to find the BMI given weight and height.\r\n",
        "# getting input from the user and assigning it to user\r\n",
        "\r\n",
        "height = float(2)\r\n",
        "weight = float(60)\r\n",
        "\r\n",
        "# the formula for calculating bmi\r\n",
        "\r\n",
        "bmi = weight/(height**2) \r\n",
        "# ** is the power of operator i.e height*height in this case\r\n",
        "\r\n",
        "print(\"Your BMI is: {0} and you are: \".format(bmi), end='')\r\n",
        "\r\n",
        "#conditions\r\n",
        "if ( bmi < 16):\r\n",
        "   print(\"severely underweight\")\r\n",
        "\r\n",
        "elif ( bmi >= 16 and bmi < 18.5):\r\n",
        "   print(\"underweight\")\r\n",
        "\r\n",
        "elif ( bmi >= 18.5 and bmi < 25):\r\n",
        "   print(\"Healthy\")\r\n",
        "\r\n",
        "elif ( bmi >= 25 and bmi < 30):\r\n",
        "   print(\"overweight\")\r\n",
        "\r\n",
        "elif ( bmi >=30):\r\n",
        "   print(\"severely overweight\")"
      ],
      "execution_count": null,
      "outputs": [
        {
          "output_type": "stream",
          "text": [
            "Your BMI is: 15.0 and you are: severely underweight\n"
          ],
          "name": "stdout"
        }
      ]
    },
    {
      "cell_type": "code",
      "metadata": {
        "colab": {
          "base_uri": "https://localhost:8080/"
        },
        "id": "FYxsZwvtLuqy",
        "outputId": "0b6e5dfc-21c8-46ba-cf4d-6275dede0650"
      },
      "source": [
        "## Write a code to get the total bits in a number.\r\n",
        "# count total number of bits in a number \r\n",
        "\r\n",
        "# declare a number\r\n",
        "num = 61\r\n",
        "\r\n",
        "# use bin () method to get the binary value of a number \r\n",
        "# print binary value output will be 0b111101\r\n",
        "print (\"binary value of {0} is: {1}\".format (num, bin(num)))\r\n",
        "\r\n",
        "# store the length of the binary number\r\n",
        "length = len(bin(num))\r\n",
        "\r\n",
        "# since binary value contains 0b as prefix\r\n",
        "# so to get exact length total number of bits\r\n",
        "# subtract 2 from the length\r\n",
        "length -=2\r\n",
        "\r\n",
        "# print length\r\n",
        "print (\"total number of bits: \", length)"
      ],
      "execution_count": null,
      "outputs": [
        {
          "output_type": "stream",
          "text": [
            "binary value of 61 is: 0b111101\n",
            "total number of bits:  6\n"
          ],
          "name": "stdout"
        }
      ]
    },
    {
      "cell_type": "code",
      "metadata": {
        "colab": {
          "base_uri": "https://localhost:8080/"
        },
        "id": "CISuDZKuL8nK",
        "outputId": "375aa583-43c3-4032-aa72-0874ddf7fa18"
      },
      "source": [
        "## find the palindrome number goven a list.\r\n",
        "# Give size of list\r\n",
        "n='12,13,121,666,7676,98'\r\n",
        "\r\n",
        "# Give list of numbers having size n\r\n",
        "l=list(map(int,n.strip().split(',')))\r\n",
        "\r\n",
        "print(\"Palindrome numbers are:\")\r\n",
        "# check through the list to check \r\n",
        "# number is palindrome or not\r\n",
        "for i in l:\r\n",
        "    num=str(i)\r\n",
        "    if(\"\".join(reversed(num))==num):\r\n",
        "        print(i)"
      ],
      "execution_count": null,
      "outputs": [
        {
          "output_type": "stream",
          "text": [
            "Palindrome numbers are:\n",
            "121\n",
            "666\n"
          ],
          "name": "stdout"
        }
      ]
    },
    {
      "cell_type": "code",
      "metadata": {
        "colab": {
          "base_uri": "https://localhost:8080/"
        },
        "id": "k5lnN0YcMaRv",
        "outputId": "1c733236-3027-4657-f054-8b745fd7de65"
      },
      "source": [
        "##Write a code  to find the sum of all numbers below 1000 which are multiples of 3 or 5 in the Python programming language?\r\n",
        "# initialize the value of n\r\n",
        "n=1000 \r\n",
        "# initialize value of s is zero.\r\n",
        "s=0 \r\n",
        "\r\n",
        "# checking the number is divisible by 3 or 5\r\n",
        "# and find their sum\r\n",
        "for k in range(1,n+1):\r\n",
        "    if k%3==0 or k%5==0: #checking condition \r\n",
        "        s+=k\r\n",
        "\r\n",
        "# printing the result\r\n",
        "print('The sum of the number:',s)"
      ],
      "execution_count": null,
      "outputs": [
        {
          "output_type": "stream",
          "text": [
            "The sum of the number: 234168\n"
          ],
          "name": "stdout"
        }
      ]
    },
    {
      "cell_type": "code",
      "metadata": {
        "colab": {
          "base_uri": "https://localhost:8080/"
        },
        "id": "V3rpyZlStTJp",
        "outputId": "c4bbfb53-dfd2-448d-cac7-2f154fcfac4f"
      },
      "source": [
        "##write a code to  remove hyper link from text.\r\n",
        "import re\r\n",
        "tweet='https://google.com this is the best '\r\n",
        "tweet = re.sub(r'https?:\\/\\/.\\S+', \"\", tweet) \r\n",
        "print(tweet)"
      ],
      "execution_count": null,
      "outputs": [
        {
          "output_type": "stream",
          "text": [
            " this is the best \n"
          ],
          "name": "stdout"
        }
      ]
    },
    {
      "cell_type": "code",
      "metadata": {
        "colab": {
          "base_uri": "https://localhost:8080/"
        },
        "id": "o7cUeFZSts6H",
        "outputId": "a0377fe5-6ecd-4aa8-aa80-03324929029b"
      },
      "source": [
        "## Write a code to remove hashtags.\r\n",
        "tweet = re.sub(r'#', '', tweet) \r\n",
        "print(tweet)"
      ],
      "execution_count": null,
      "outputs": [
        {
          "output_type": "stream",
          "text": [
            " this is the best \n"
          ],
          "name": "stdout"
        }
      ]
    },
    {
      "cell_type": "code",
      "metadata": {
        "colab": {
          "base_uri": "https://localhost:8080/"
        },
        "id": "mXaUD-YetztD",
        "outputId": "3e5fa8b1-109b-46d4-f30c-def53e9f5c8e"
      },
      "source": [
        "##write a code to remove old style retweet text \"RT\" \r\n",
        "tweet = re.sub(r'^RT[\\s]+', '', tweet) \r\n",
        "print(tweet)"
      ],
      "execution_count": null,
      "outputs": [
        {
          "output_type": "stream",
          "text": [
            " this is the best \n"
          ],
          "name": "stdout"
        }
      ]
    },
    {
      "cell_type": "code",
      "metadata": {
        "colab": {
          "base_uri": "https://localhost:8080/"
        },
        "id": "r8MufNBuuDQX",
        "outputId": "2d47dd8e-b5ad-4290-8530-a6f8661b0315"
      },
      "source": [
        "## write a code to replace the slangs with actual value.\r\n",
        "#dictionary consisting of the contraction and the actual value \r\n",
        "Apos_dict={\"'s\":\" is\",\"n't\":\" not\",\"'m\":\" am\",\"'ll\":\" will\", \r\n",
        "           \"'d\":\" would\",\"'ve\":\" have\",\"'re\":\" are\"} \r\n",
        "  \r\n",
        "#replace the contractions \r\n",
        "for key,value in Apos_dict.items(): \r\n",
        "    if key in tweet: \r\n",
        "        tweet=tweet.replace(key,value) \r\n",
        "  \r\n",
        "print(\"After Contraction replacement the tweet is:-\\n{}\".format(tweet))"
      ],
      "execution_count": null,
      "outputs": [
        {
          "output_type": "stream",
          "text": [
            "After Contraction replacement the tweet is:-\n",
            " this is the best \n"
          ],
          "name": "stdout"
        }
      ]
    },
    {
      "cell_type": "code",
      "metadata": {
        "colab": {
          "base_uri": "https://localhost:8080/"
        },
        "id": "9X83ZidUuYFR",
        "outputId": "c1896707-12a4-4756-c4be-f5c200a1e13f"
      },
      "source": [
        "## Wite a code to split the attached words \r\n",
        "import re \r\n",
        "#separate the words \r\n",
        "tweet = \" \".join([s for s in re.split(\"([A-Z][a-z]+[^A-Z]*)\",tweet) if s]) \r\n",
        "print(\"After spliting attached words the tweet is:-\\n{}\".format(tweet))\r\n"
      ],
      "execution_count": null,
      "outputs": [
        {
          "output_type": "stream",
          "text": [
            "After spliting attached words the tweet is:-\n",
            " this is the best \n"
          ],
          "name": "stdout"
        }
      ]
    },
    {
      "cell_type": "code",
      "metadata": {
        "colab": {
          "base_uri": "https://localhost:8080/",
          "height": 35
        },
        "id": "BL8gbE3yvCDl",
        "outputId": "fbab0099-2668-4211-965d-2e9bde12fc17"
      },
      "source": [
        "string.punctuation"
      ],
      "execution_count": null,
      "outputs": [
        {
          "output_type": "execute_result",
          "data": {
            "application/vnd.google.colaboratory.intrinsic+json": {
              "type": "string"
            },
            "text/plain": [
              "'!\"#$%&\\'()*+,-./:;<=>?@[\\\\]^_`{|}~'"
            ]
          },
          "metadata": {
            "tags": []
          },
          "execution_count": 19
        }
      ]
    },
    {
      "cell_type": "code",
      "metadata": {
        "colab": {
          "base_uri": "https://localhost:8080/"
        },
        "id": "AczzPP_hugNn",
        "outputId": "e5ba0d2a-b605-4927-e5a1-8a7e8a7b7623"
      },
      "source": [
        "## write a code to remove punctuations.\r\n",
        "#for string operations \r\n",
        "import string           \r\n",
        "clean_tweet=[] \r\n",
        "tweet_list=['here','comes' ,'the' ,'#', 'rain', ',' ,'agin' ,'fallin' ,'from' ,'sky' ,'!']\r\n",
        "#remove punctuations \r\n",
        "for word in tweet_list: \r\n",
        "    #print(word)\r\n",
        "    if word not in string.punctuation: \r\n",
        "        clean_tweet.append(word) \r\n",
        "  \r\n",
        "print(\"clean_tweet = {}\".format(clean_tweet))"
      ],
      "execution_count": null,
      "outputs": [
        {
          "output_type": "stream",
          "text": [
            "clean_tweet = ['here', 'comes', 'the', 'rain', 'agin', 'fallin', 'from', 'sky']\n"
          ],
          "name": "stdout"
        }
      ]
    },
    {
      "cell_type": "code",
      "metadata": {
        "colab": {
          "base_uri": "https://localhost:8080/"
        },
        "id": "Xc7BhUKvvwC5",
        "outputId": "3b0380a4-5d59-4619-ca30-10fd0412db0f"
      },
      "source": [
        "## Wite a code to have 3 numbers are print all the possible combinations.\r\n",
        "a=99\r\n",
        "b=5\r\n",
        "c=121\r\n",
        "d=[]\r\n",
        "d.append(a)\r\n",
        "d.append(b)\r\n",
        "d.append(c)\r\n",
        "for i in range(0,3):\r\n",
        "    for j in range(0,3):\r\n",
        "        for k in range(0,3):\r\n",
        "            if(i!=j&j!=k&k!=i):\r\n",
        "                print(d[i],d[j],d[k])"
      ],
      "execution_count": null,
      "outputs": [
        {
          "output_type": "stream",
          "text": [
            "99 5 121\n",
            "99 121 5\n",
            "5 99 121\n",
            "5 121 99\n",
            "121 99 5\n",
            "121 5 99\n"
          ],
          "name": "stdout"
        }
      ]
    },
    {
      "cell_type": "code",
      "metadata": {
        "colab": {
          "base_uri": "https://localhost:8080/"
        },
        "id": "_6ZPU8EDwiAl",
        "outputId": "d3dc976e-e7a9-4b8c-8ceb-7539cd209722"
      },
      "source": [
        "## Wite a program to print identity matrix.\r\n",
        "n=5\r\n",
        "for i in range(0,n):\r\n",
        "    for j in range(0,n):\r\n",
        "        if(i==j):\r\n",
        "            print(\"1\",sep=\" \",end=\" \")\r\n",
        "        else:\r\n",
        "            print(\"0\",sep=\" \",end=\" \")\r\n",
        "    print()"
      ],
      "execution_count": null,
      "outputs": [
        {
          "output_type": "stream",
          "text": [
            "1 0 0 0 0 \n",
            "0 1 0 0 0 \n",
            "0 0 1 0 0 \n",
            "0 0 0 1 0 \n",
            "0 0 0 0 1 \n"
          ],
          "name": "stdout"
        }
      ]
    },
    {
      "cell_type": "code",
      "metadata": {
        "colab": {
          "base_uri": "https://localhost:8080/"
        },
        "id": "3nlW-JqLw361",
        "outputId": "edce8f33-fd36-453c-8a38-214d7fb22c90"
      },
      "source": [
        "##write a code to see if the number is an armstrong number or not.\r\n",
        "n=1\r\n",
        "a=list(map(int,str(n)))\r\n",
        "b=list(map(lambda x:x**3,a))\r\n",
        "if(sum(b)==n):\r\n",
        "    print(\"The number is an armstrong number. \")\r\n",
        "else:\r\n",
        "    print(\"The number isn't an arsmtrong number. \")"
      ],
      "execution_count": null,
      "outputs": [
        {
          "output_type": "stream",
          "text": [
            "The number is an armstrong number. \n"
          ],
          "name": "stdout"
        }
      ]
    },
    {
      "cell_type": "code",
      "metadata": {
        "colab": {
          "base_uri": "https://localhost:8080/"
        },
        "id": "5O5tm4RZypKz",
        "outputId": "129a592d-5ea5-44d6-9728-cf79b575d2d7"
      },
      "source": [
        "## wite a code to compute a polynomial equation given that the coefficients of the polynomial are stored in a list.\r\n",
        "import math\r\n",
        "#print(\"Enter the coefficients of the form ax^3 + bx^2 + cx + d\")\r\n",
        "lst=[]\r\n",
        "for i in range(0,4):\r\n",
        "    a=5\r\n",
        "    lst.append(a)\r\n",
        "x=3\r\n",
        "sum1=0\r\n",
        "j=3\r\n",
        "for i in range(0,3):\r\n",
        "    while(j>0):\r\n",
        "        sum1=sum1+(lst[i]*math.pow(x,j))\r\n",
        "        break\r\n",
        "    j=j-1\r\n",
        "sum1=sum1+lst[3]\r\n",
        "print(\"The value of the polynomial is:\",sum1)"
      ],
      "execution_count": null,
      "outputs": [
        {
          "output_type": "stream",
          "text": [
            "The value of the polynomial is: 200.0\n"
          ],
          "name": "stdout"
        }
      ]
    },
    {
      "cell_type": "code",
      "metadata": {
        "colab": {
          "base_uri": "https://localhost:8080/"
        },
        "id": "NhwarumvzaMO",
        "outputId": "7f0c2588-90cd-4c7c-87c0-1b592de8d00e"
      },
      "source": [
        "## Wite a function to print the sum of sine series, run the function with user inputs.\r\n",
        "import math\r\n",
        "def sin(x,n):\r\n",
        "    sine = 0\r\n",
        "    for i in range(n):\r\n",
        "        sign = (-1)**i\r\n",
        "        pi=22/7\r\n",
        "        y=x*(pi/180)\r\n",
        "        sine = sine + ((y**(2.0*i+1))/math.factorial(2*i+1))*sign\r\n",
        "    return sine\r\n",
        "x=int(input(\"Enter the value of x in degrees:\"))\r\n",
        "n=int(input(\"Enter the number of terms:\"))\r\n",
        "print(round(sin(x,n),2))"
      ],
      "execution_count": null,
      "outputs": [
        {
          "output_type": "stream",
          "text": [
            "Enter the value of x in degrees:3\n",
            "Enter the number of terms:4\n",
            "0.05\n"
          ],
          "name": "stdout"
        }
      ]
    },
    {
      "cell_type": "code",
      "metadata": {
        "colab": {
          "base_uri": "https://localhost:8080/"
        },
        "id": "o-FIYz34zu9Y",
        "outputId": "4df49bfe-e799-4f53-ec53-6e3eb10034ca"
      },
      "source": [
        "## wite a code to get the two inputs and print the larger one\r\n",
        "string1=input(\"Enter first string:\")\r\n",
        "string2=input(\"Enter second string:\")\r\n",
        "count1=0\r\n",
        "count2=0\r\n",
        "for i in string1:\r\n",
        "      count1=count1+1\r\n",
        "for j in string2:\r\n",
        "      count2=count2+1\r\n",
        "if(count1<count2):\r\n",
        "      print(\"Larger string is:\")\r\n",
        "      print(string2)\r\n",
        "elif(count1==count2):\r\n",
        "      print(\"Both strings are equal.\")\r\n",
        "else:\r\n",
        "      print(\"Larger string is:\")\r\n",
        "      print(string1)"
      ],
      "execution_count": null,
      "outputs": [
        {
          "output_type": "stream",
          "text": [
            "Enter first string:A\n",
            "Enter second string:bbb\n",
            "Larger string is:\n",
            "bbb\n"
          ],
          "name": "stdout"
        }
      ]
    },
    {
      "cell_type": "code",
      "metadata": {
        "colab": {
          "base_uri": "https://localhost:8080/"
        },
        "id": "-9TWyGuO1hIO",
        "outputId": "8a2a5155-7cf8-4a63-ce17-96301f5cabcc"
      },
      "source": [
        "## write a code that tprogram takes a string and creates a dictionary with key as first character and value as words starting with that character.\r\n",
        "s=\"those were the best days of my life\"\r\n",
        "count = 0\r\n",
        "vowels = set(\"aeiou\")\r\n",
        "for letter in s:\r\n",
        "    if letter in vowels:\r\n",
        "        count += 1\r\n",
        "print(\"Count of the vowels is:\")\r\n",
        "print(count)"
      ],
      "execution_count": null,
      "outputs": [
        {
          "output_type": "stream",
          "text": [
            "Count of the vowels is:\n",
            "10\n"
          ],
          "name": "stdout"
        }
      ]
    },
    {
      "cell_type": "code",
      "metadata": {
        "colab": {
          "base_uri": "https://localhost:8080/"
        },
        "id": "g0kVcXPx2GRV",
        "outputId": "559def06-3c7c-4ea8-8fc0-aa44b277f1e4"
      },
      "source": [
        "## Write a Python Program to check common letters in the two input strings.\r\n",
        "s1=input(\"Enter first string:\")\r\n",
        "s2=input(\"Enter second string:\")\r\n",
        "a=list(set(s1)&set(s2))\r\n",
        "print(\"The common letters are:\")\r\n",
        "for i in a:\r\n",
        "    print(i)"
      ],
      "execution_count": null,
      "outputs": [
        {
          "output_type": "stream",
          "text": [
            "Enter first string:this is me \n",
            "Enter second string:here i am \n",
            "The common letters are:\n",
            "h\n",
            "e\n",
            "m\n",
            "i\n",
            " \n"
          ],
          "name": "stdout"
        }
      ]
    },
    {
      "cell_type": "code",
      "metadata": {
        "colab": {
          "base_uri": "https://localhost:8080/"
        },
        "id": "q8J41G702Y8M",
        "outputId": "4a9eacc4-77c2-4357-dbf8-c1bce9fbd6ed"
      },
      "source": [
        "## write a code That  takes two strings and displays which letters are in the first string but not in the second string.\r\n",
        "s1=input(\"Enter first string:\")\r\n",
        "s2=input(\"Enter second string:\")\r\n",
        "a=list(set(s1)-set(s2))\r\n",
        "print(\"The letters are:\")\r\n",
        "for i in a:\r\n",
        "    print(i)\r\n"
      ],
      "execution_count": null,
      "outputs": [
        {
          "output_type": "stream",
          "text": [
            "Enter first string:here i am \n",
            "Enter second string:this isme \n",
            "The letters are:\n",
            "r\n",
            "a\n"
          ],
          "name": "stdout"
        }
      ]
    },
    {
      "cell_type": "code",
      "metadata": {
        "colab": {
          "base_uri": "https://localhost:8080/"
        },
        "id": "Vy80uxvd2srT",
        "outputId": "8ffbada1-91e9-4dac-dad4-c1688cbaabdc"
      },
      "source": [
        "#This is a Python Program to display which letters are in the two strings but not in both.\r\n",
        "\r\n",
        "s1=input(\"Enter first string:\")\r\n",
        "s2=input(\"Enter second string:\")\r\n",
        "a=list(set(s1)^set(s2))\r\n",
        "print(\"The letters are:\")\r\n",
        "for i in a:\r\n",
        "    print(i)"
      ],
      "execution_count": null,
      "outputs": [
        {
          "output_type": "stream",
          "text": [
            "Enter first string:Here I am \n",
            "Enter second string:This is me\n",
            "The letters are:\n",
            "h\n",
            "I\n",
            "T\n",
            "r\n",
            "s\n",
            "H\n",
            "a\n",
            "i\n"
          ],
          "name": "stdout"
        }
      ]
    },
    {
      "cell_type": "code",
      "metadata": {
        "colab": {
          "base_uri": "https://localhost:8080/"
        },
        "id": "WAEiua6p3FoL",
        "outputId": "e3f0bcc4-4564-40ee-c00d-b3eea20222ca"
      },
      "source": [
        "## Wite a function to get the total sum of list recursively.\r\n",
        "def sum1(lst):\r\n",
        "    total = 0\r\n",
        "    for element in lst:\r\n",
        "        if (type(element) == type([])):\r\n",
        "            total = total + sum1(element)\r\n",
        "        else:\r\n",
        "            total = total + element\r\n",
        "    return total\r\n",
        "print( \"Sum is:\",sum1([[1,2],[3,4]]))"
      ],
      "execution_count": null,
      "outputs": [
        {
          "output_type": "stream",
          "text": [
            "Sum is: 10\n"
          ],
          "name": "stdout"
        }
      ]
    },
    {
      "cell_type": "code",
      "metadata": {
        "colab": {
          "base_uri": "https://localhost:8080/"
        },
        "id": "OZHSwS1h3Vxk",
        "outputId": "184cabc5-5cbc-4082-f304-e08154109449"
      },
      "source": [
        "## write a function to get the length of the list recursively.\r\n",
        "def length(lst):\r\n",
        "    if not lst:\r\n",
        "        return 0\r\n",
        "    return 1 + length(lst[1::2]) + length(lst[2::2])\r\n",
        "a=[1,2,3]\r\n",
        "print(\"Length of the string is: \")\r\n",
        "print(a)"
      ],
      "execution_count": null,
      "outputs": [
        {
          "output_type": "stream",
          "text": [
            "Length of the string is: \n",
            "[1, 2, 3]\n"
          ],
          "name": "stdout"
        }
      ]
    },
    {
      "cell_type": "code",
      "metadata": {
        "id": "5UPjqCcD444s"
      },
      "source": [
        "#Write a code to read from the file.\r\n",
        "a=str(input(\"Enter the name of the file with .txt extension:\"))\r\n",
        "file2=open(a,'r')\r\n",
        "line=file2.readline()\r\n",
        "while(line!=\"\"):\r\n",
        "    print(line)\r\n",
        "    line=file2.readline()\r\n",
        "file2.close()"
      ],
      "execution_count": null,
      "outputs": []
    },
    {
      "cell_type": "code",
      "metadata": {
        "id": "FxsU4Soe5Gi7"
      },
      "source": [
        ""
      ],
      "execution_count": null,
      "outputs": []
    }
  ]
}