{
  "nbformat": 4,
  "nbformat_minor": 0,
  "metadata": {
    "colab": {
      "name": "Session8.ipynb",
      "provenance": [],
      "authorship_tag": "ABX9TyN1wOXo+ADjvJCCLucjE6OT",
      "include_colab_link": true
    },
    "kernelspec": {
      "name": "python3",
      "display_name": "Python 3"
    }
  },
  "cells": [
    {
      "cell_type": "markdown",
      "metadata": {
        "id": "view-in-github",
        "colab_type": "text"
      },
      "source": [
        "<a href=\"https://colab.research.google.com/github/saurabhkirar/NLP_END/blob/main/Session8/Session8.ipynb\" target=\"_parent\"><img src=\"https://colab.research.google.com/assets/colab-badge.svg\" alt=\"Open In Colab\"/></a>"
      ]
    },
    {
      "cell_type": "code",
      "metadata": {
        "colab": {
          "base_uri": "https://localhost:8080/"
        },
        "id": "H6ZRgBJE4Thz",
        "outputId": "3a134d62-341d-4259-ef57-87e6cdb8eb98"
      },
      "source": [
        "# Write a pyth0n program to multiply two number \r\n",
        "num1=100.19\r\n",
        "num2=200.43\r\n",
        "num3=num1*num2\r\n",
        "print('The product of %.2f and %.2f is %.2f'%(num1,num2,num3))"
      ],
      "execution_count": null,
      "outputs": [
        {
          "output_type": "stream",
          "text": [
            "The product of 100.19 and 200.43 is 20081.08\n"
          ],
          "name": "stdout"
        }
      ]
    },
    {
      "cell_type": "code",
      "metadata": {
        "colab": {
          "base_uri": "https://localhost:8080/"
        },
        "id": "95z8KpCH7alQ",
        "outputId": "b7c92c9a-c012-4af2-cc90-26907d4d3c95"
      },
      "source": [
        "# Write a program to print the positive number of all the  given number in a list \r\n",
        "lis=[1,3,-9,-81,7776,-9876]\r\n",
        "abs_list=[]\r\n",
        "print('actual list',lis)\r\n",
        "for rec in lis:\r\n",
        "  rec=abs(rec)\r\n",
        "  abs_list.append(rec)\r\n",
        "print('list with absolute values',abs_list)"
      ],
      "execution_count": null,
      "outputs": [
        {
          "output_type": "stream",
          "text": [
            "actual list [1, 3, -9, -81, 7776, -9876]\n",
            "list with absolute values [1, 3, 9, 81, 7776, 9876]\n"
          ],
          "name": "stdout"
        }
      ]
    },
    {
      "cell_type": "code",
      "metadata": {
        "colab": {
          "base_uri": "https://localhost:8080/"
        },
        "id": "v_6uoPHx8d50",
        "outputId": "f195eb29-af6c-4bda-c96e-1ef13e0032b6"
      },
      "source": [
        "## Write a program that has a python function to return the value if the input  is greater than zero else the function should return zero\r\n",
        "# test the function with one postive and one negetive value.\r\n",
        "def func_relu(x):\r\n",
        "  return x if x > 0 else 0\r\n",
        "\r\n",
        "print('the output for 98 is ',func_relu(98))\r\n",
        "print('the output for -98  is ',func_relu(-98))"
      ],
      "execution_count": null,
      "outputs": [
        {
          "output_type": "stream",
          "text": [
            "the output for 98 is  98\n",
            "the output for -98  is  0\n"
          ],
          "name": "stdout"
        }
      ]
    },
    {
      "cell_type": "code",
      "metadata": {
        "colab": {
          "base_uri": "https://localhost:8080/"
        },
        "id": "Lz1Ij4ZY_S6a",
        "outputId": "756060de-d387-4b55-f48b-df6c9154408d"
      },
      "source": [
        "## write a python code to find the maximum and mimimum values in a list.\r\n",
        "lst=[98,776,1,22,33]\r\n",
        "print('Maximum value in the list is ',max(lst))\r\n",
        "print('minimum vale in the list is ',min(lst))"
      ],
      "execution_count": null,
      "outputs": [
        {
          "output_type": "stream",
          "text": [
            "Maximum value in the list is  776\n",
            "minimum vale in the list is  1\n"
          ],
          "name": "stdout"
        }
      ]
    },
    {
      "cell_type": "code",
      "metadata": {
        "colab": {
          "base_uri": "https://localhost:8080/"
        },
        "id": "pF3Sx6e_A6Sf",
        "outputId": "05f32810-099d-405b-e77a-12907b4c72d7"
      },
      "source": [
        "## Write a function in python which takes a list as an input and returns the normalized list as the output.\r\n",
        "## x normalized = (x – x minimum) / (x maximum – x minimum)\r\n",
        "## test the function and print the normalized list\r\n",
        "def func_normalization(p_list):\r\n",
        "  l_max=max(p_list)\r\n",
        "  l_min=min(p_list)\r\n",
        "  deno=l_max-l_min\r\n",
        "  norm_lst=[]\r\n",
        "  for rec in p_list:\r\n",
        "    norm_lst.append((rec-l_min)/deno)\r\n",
        "  return norm_lst\r\n",
        "\r\n",
        "nat_list=[234,345,887,98]\r\n",
        "func_normalization(nat_list)"
      ],
      "execution_count": null,
      "outputs": [
        {
          "output_type": "execute_result",
          "data": {
            "text/plain": [
              "[0.17237008871989862, 0.31305449936628643, 1.0, 0.0]"
            ]
          },
          "metadata": {
            "tags": []
          },
          "execution_count": 91
        }
      ]
    },
    {
      "cell_type": "code",
      "metadata": {
        "colab": {
          "base_uri": "https://localhost:8080/"
        },
        "id": "GXMJggj7DZnj",
        "outputId": "41c2d24c-3457-4448-be57-b3e7ce7119c8"
      },
      "source": [
        "## Write a code to print the  memory address of a given array \r\n",
        "from array import *\r\n",
        "arr=array('i',[1,5,7,89])\r\n",
        "print('Memory address of the given array is ',arr.buffer_info())"
      ],
      "execution_count": null,
      "outputs": [
        {
          "output_type": "stream",
          "text": [
            "Memory address of the given array is  (140549508420864, 4)\n"
          ],
          "name": "stdout"
        }
      ]
    },
    {
      "cell_type": "code",
      "metadata": {
        "colab": {
          "base_uri": "https://localhost:8080/"
        },
        "id": "l3_Xhlx8GeCf",
        "outputId": "fbc0f509-3833-485f-e006-1c1cf0c742c4"
      },
      "source": [
        "## Write a code to print the  no of element of a given array \r\n",
        "from array import *\r\n",
        "arr=array('i',[1,5,7,89])\r\n",
        "print('There are total %d elements '%(arr.buffer_info()[1]))"
      ],
      "execution_count": null,
      "outputs": [
        {
          "output_type": "stream",
          "text": [
            "There are total 4 elements \n"
          ],
          "name": "stdout"
        }
      ]
    },
    {
      "cell_type": "code",
      "metadata": {
        "colab": {
          "base_uri": "https://localhost:8080/"
        },
        "id": "B1ISWpQUH7v6",
        "outputId": "2b65dc32-fd3c-4464-fe14-533e452668d3"
      },
      "source": [
        "#Write a Python program to remove the first occurrence of a specified element from an array\r\n",
        "from array import *\r\n",
        "array_num = array('i', [1, 3, 15, 3, 37, 21, 29, 3])\r\n",
        "print(\"Original array: \"+str(array_num))\r\n",
        "array_num.remove(3)\r\n",
        "print(\"New array: \"+str(array_num))"
      ],
      "execution_count": null,
      "outputs": [
        {
          "output_type": "stream",
          "text": [
            "Original array: array('i', [1, 3, 15, 3, 37, 21, 29, 3])\n",
            "New array: array('i', [1, 15, 3, 37, 21, 29, 3])\n"
          ],
          "name": "stdout"
        }
      ]
    },
    {
      "cell_type": "code",
      "metadata": {
        "colab": {
          "base_uri": "https://localhost:8080/"
        },
        "id": "Go89MSzcIaGf",
        "outputId": "edcb7f75-92c1-4aa5-f16c-0aa7b0aee34b"
      },
      "source": [
        "## write a code to define dictionary and loop over it.\r\n",
        "d = {'x': 10, 'y': 20, 'z': 30} \r\n",
        "for dict_key, dict_value in d.items():\r\n",
        "    print(dict_key,'->',dict_value)"
      ],
      "execution_count": null,
      "outputs": [
        {
          "output_type": "stream",
          "text": [
            "x -> 10\n",
            "y -> 20\n",
            "z -> 30\n"
          ],
          "name": "stdout"
        }
      ]
    },
    {
      "cell_type": "code",
      "metadata": {
        "colab": {
          "base_uri": "https://localhost:8080/"
        },
        "id": "FKP1uUFAI8dc",
        "outputId": "083e5929-6d53-4515-d0ed-df564479e2d6"
      },
      "source": [
        "## Write a code to merge two dictionaries.\r\n",
        "d1 = {'a': 100, 'b': 200}\r\n",
        "d2 = {'x': 300, 'y': 200}\r\n",
        "d = d1.copy()\r\n",
        "d.update(d2)\r\n",
        "print(d)"
      ],
      "execution_count": null,
      "outputs": [
        {
          "output_type": "stream",
          "text": [
            "{'a': 100, 'b': 200, 'x': 300, 'y': 200}\n"
          ],
          "name": "stdout"
        }
      ]
    },
    {
      "cell_type": "code",
      "metadata": {
        "colab": {
          "base_uri": "https://localhost:8080/"
        },
        "id": "HuVR44t4JBm8",
        "outputId": "69b5e86f-d67a-4505-e318-6b0d30ac0276"
      },
      "source": [
        "## write a code to merge two lists into one dictionary.\r\n",
        "keys = ['sachin', 'hayden', 'sana']\r\n",
        "values = ['Ind','Aus', 'SL']\r\n",
        "player = dict(zip(keys, values))\r\n",
        "print(player)"
      ],
      "execution_count": null,
      "outputs": [
        {
          "output_type": "stream",
          "text": [
            "{'sachin': 'Ind', 'hayden': 'Aus', 'sana': 'SL'}\n"
          ],
          "name": "stdout"
        }
      ]
    },
    {
      "cell_type": "code",
      "metadata": {
        "colab": {
          "base_uri": "https://localhost:8080/"
        },
        "id": "Eoigu_lzJs6m",
        "outputId": "d0a7b92a-fd8f-4c3a-9a26-e9b95cdb27d9"
      },
      "source": [
        "## write a class in oythin to get the dictionary from an object field, test the code.\r\n",
        "class Player(object):\r\n",
        "     def __init__(self):\r\n",
        "         self.ind = 'sachin'\r\n",
        "         self.aus = 'hayden'\r\n",
        "         self.sl = 'sana'\r\n",
        "     def do_nothing(self):\r\n",
        "         pass\r\n",
        "test = Player()\r\n",
        "print(test.__dict__)"
      ],
      "execution_count": null,
      "outputs": [
        {
          "output_type": "stream",
          "text": [
            "{'ind': 'sachin', 'aus': 'hayden', 'sl': 'sana'}\n"
          ],
          "name": "stdout"
        }
      ]
    },
    {
      "cell_type": "code",
      "metadata": {
        "colab": {
          "base_uri": "https://localhost:8080/"
        },
        "id": "o1nSHpzGKd7D",
        "outputId": "cf702c25-de82-4344-c983-8f6d148f4860"
      },
      "source": [
        "\"\"\"\r\n",
        "Write a Python program to print all unique values in a dictionary. Go to the editor\r\n",
        "Sample Data : [{\"V\":\"1\"}, {\"V\": \"2\"}, {\"VI\": \"1\"}, {\"VI\": \"5\"}, {\"VII\":\"5\"}, {\"V\":\"9\"},{\"VIII\":\"7\"}]\r\n",
        "Expected Output : Unique Values: {'5', '2', '7', '1', '9'}\r\n",
        "\"\"\"\r\n",
        "L = [{\"V\":\"1\"}, {\"V\": \"2\"}, {\"VI\": \"1\"}, {\"VI\": \"5\"}, {\"VII\":\"5\"}, {\"V\":\"9\"},{\"VIII\":\"7\"}]\r\n",
        "print(\"Original List: \",L)\r\n",
        "u_value = set( val for dic in L for val in dic.values())\r\n",
        "print(\"Unique Values: \",u_value)"
      ],
      "execution_count": null,
      "outputs": [
        {
          "output_type": "stream",
          "text": [
            "Original List:  [{'V': '1'}, {'V': '2'}, {'VI': '1'}, {'VI': '5'}, {'VII': '5'}, {'V': '9'}, {'VIII': '7'}]\n",
            "Unique Values:  {'2', '1', '7', '9', '5'}\n"
          ],
          "name": "stdout"
        }
      ]
    },
    {
      "cell_type": "code",
      "metadata": {
        "colab": {
          "base_uri": "https://localhost:8080/"
        },
        "id": "CH62IeJwLS_w",
        "outputId": "755d044b-91dd-4a19-b962-428bb93c07db"
      },
      "source": [
        "## Write a pythin code to add three lists using lambda and map.\r\n",
        "nums1 = [1, 2, 3] \r\n",
        "nums2 = [4, 5, 6] \r\n",
        "nums3 = [7, 8, 9] \r\n",
        "print(\"Original list: \")\r\n",
        "print(nums1)  \r\n",
        "print(nums2)  \r\n",
        "print(nums3)  \r\n",
        "result = map(lambda x, y, z: x + y + z, nums1, nums2, nums3) \r\n",
        "print(\"\\nNew list after adding above three lists:\")\r\n",
        "print(list(result))"
      ],
      "execution_count": null,
      "outputs": [
        {
          "output_type": "stream",
          "text": [
            "Original list: \n",
            "[1, 2, 3]\n",
            "[4, 5, 6]\n",
            "[7, 8, 9]\n",
            "\n",
            "New list after adding above three lists:\n",
            "[12, 15, 18]\n"
          ],
          "name": "stdout"
        }
      ]
    },
    {
      "cell_type": "code",
      "metadata": {
        "colab": {
          "base_uri": "https://localhost:8080/"
        },
        "id": "GnwY8gsOMJQ3",
        "outputId": "b8555367-ac73-4336-93e8-4f8a57288de5"
      },
      "source": [
        "## use time and datetine and list down few formats \r\n",
        "import time\r\n",
        "import datetime\r\n",
        "print(\"Current date and time: \" , datetime.datetime.now())\r\n",
        "print(\"Current year: \", datetime.date.today().strftime(\"%Y\"))\r\n",
        "print(\"Month of year: \", datetime.date.today().strftime(\"%B\"))\r\n",
        "print(\"Week number of the year: \", datetime.date.today().strftime(\"%W\"))\r\n",
        "print(\"Weekday of the week: \", datetime.date.today().strftime(\"%w\"))\r\n",
        "print(\"Day of year: \", datetime.date.today().strftime(\"%j\"))\r\n",
        "print(\"Day of the month : \", datetime.date.today().strftime(\"%d\"))\r\n",
        "print(\"Day of week: \", datetime.date.today().strftime(\"%A\"))"
      ],
      "execution_count": null,
      "outputs": [
        {
          "output_type": "stream",
          "text": [
            "Current date and time:  2020-12-16 15:35:07.374382\n",
            "Current year:  2020\n",
            "Month of year:  December\n",
            "Week number of the year:  50\n",
            "Weekday of the week:  3\n",
            "Day of year:  351\n",
            "Day of the month :  16\n",
            "Day of week:  Wednesday\n"
          ],
          "name": "stdout"
        }
      ]
    },
    {
      "cell_type": "code",
      "metadata": {
        "id": "sofFjnQKMRya",
        "colab": {
          "base_uri": "https://localhost:8080/"
        },
        "outputId": "3527c5fc-5755-4d63-807a-d7fa6bc52b60"
      },
      "source": [
        "## Write a code to show the unique file type based on the extension from a list.\r\n",
        "\r\n",
        "lst=['a.jpg','b.png','c.jpeg','d.java','e.sql','f.sql','g.sql','z.png']\r\n",
        "uniq=[]\r\n",
        "for rec in lst:\r\n",
        "    E =rec.split('.')[1]\r\n",
        "    uniq.append(E)\r\n",
        "set(uniq)  ## Set gives the distinct or non repetative values of the list."
      ],
      "execution_count": 12,
      "outputs": [
        {
          "output_type": "execute_result",
          "data": {
            "text/plain": [
              "{'java', 'jpeg', 'jpg', 'png', 'sql'}"
            ]
          },
          "metadata": {
            "tags": []
          },
          "execution_count": 12
        }
      ]
    },
    {
      "cell_type": "code",
      "metadata": {
        "colab": {
          "base_uri": "https://localhost:8080/"
        },
        "id": "0JxNu0m-EMvG",
        "outputId": "b702ed29-7822-4dcc-87cd-68ec8f22a876"
      },
      "source": [
        "## Write a python function to return the greatest common divisor (GCD) for two numbers, test the functions.\r\n",
        "def gcd(x, y):\r\n",
        "    gcd = 1\r\n",
        "    \r\n",
        "    if x % y == 0:\r\n",
        "        return y\r\n",
        "    \r\n",
        "    for k in range(int(y / 2), 0, -1):\r\n",
        "        if x % k == 0 and y % k == 0:\r\n",
        "            gcd = k\r\n",
        "            break  \r\n",
        "    return gcd\r\n",
        "\r\n",
        "print(gcd(12, 17))\r\n",
        "print(gcd(4, 6))"
      ],
      "execution_count": 13,
      "outputs": [
        {
          "output_type": "stream",
          "text": [
            "1\n",
            "2\n"
          ],
          "name": "stdout"
        }
      ]
    },
    {
      "cell_type": "code",
      "metadata": {
        "colab": {
          "base_uri": "https://localhost:8080/"
        },
        "id": "Cs3LQ7nSHt1q",
        "outputId": "2dd39cbc-7b87-4a8c-a57d-c52845456914"
      },
      "source": [
        "## Write a code to calculate the euclidiean distance between two cordinates, express the cordinates  as list members.\r\n",
        "import math\r\n",
        "p1 = [4, 0]\r\n",
        "p2 = [6, 6]\r\n",
        "distance = math.sqrt( ((p1[0]-p2[0])**2)+((p1[1]-p2[1])**2) )\r\n",
        "\r\n",
        "print(distance)"
      ],
      "execution_count": 14,
      "outputs": [
        {
          "output_type": "stream",
          "text": [
            "6.324555320336759\n"
          ],
          "name": "stdout"
        }
      ]
    },
    {
      "cell_type": "code",
      "metadata": {
        "colab": {
          "base_uri": "https://localhost:8080/"
        },
        "id": "17GeB1Z1Ih3U",
        "outputId": "3bdffb84-4fe0-4282-8abe-01a29377418c"
      },
      "source": [
        "## Write a code to see if any file exists in the location.\r\n",
        "import os.path\r\n",
        "open('abc.txt', 'w')\r\n",
        "print(os.path.isfile('abc.txt'))"
      ],
      "execution_count": 15,
      "outputs": [
        {
          "output_type": "stream",
          "text": [
            "True\n"
          ],
          "name": "stdout"
        }
      ]
    },
    {
      "cell_type": "code",
      "metadata": {
        "colab": {
          "base_uri": "https://localhost:8080/"
        },
        "id": "3_dP97MDIsnp",
        "outputId": "71ab2c39-8548-42cf-e59c-344ba8a6e64c"
      },
      "source": [
        "## Write a code to find out number of CPU using.\r\n",
        "import multiprocessing\r\n",
        "print(multiprocessing.cpu_count())"
      ],
      "execution_count": 16,
      "outputs": [
        {
          "output_type": "stream",
          "text": [
            "2\n"
          ],
          "name": "stdout"
        }
      ]
    },
    {
      "cell_type": "code",
      "metadata": {
        "colab": {
          "base_uri": "https://localhost:8080/"
        },
        "id": "W5yC67P1I7Is",
        "outputId": "896f12c7-3153-4fe7-caac-f781940ef9b4"
      },
      "source": [
        "## Wite a code to find out profiling of python programs.\r\n",
        "import cProfile\r\n",
        "def res():\r\n",
        "    print(100.72*344.87)\r\n",
        "cProfile.run('res()')"
      ],
      "execution_count": 17,
      "outputs": [
        {
          "output_type": "stream",
          "text": [
            "34735.3064\n",
            "         39 function calls in 0.000 seconds\n",
            "\n",
            "   Ordered by: standard name\n",
            "\n",
            "   ncalls  tottime  percall  cumtime  percall filename:lineno(function)\n",
            "        1    0.000    0.000    0.000    0.000 <ipython-input-17-a8dede55eddf>:3(res)\n",
            "        1    0.000    0.000    0.000    0.000 <string>:1(<module>)\n",
            "        3    0.000    0.000    0.000    0.000 iostream.py:195(schedule)\n",
            "        2    0.000    0.000    0.000    0.000 iostream.py:307(_is_master_process)\n",
            "        2    0.000    0.000    0.000    0.000 iostream.py:320(_schedule_flush)\n",
            "        2    0.000    0.000    0.000    0.000 iostream.py:382(write)\n",
            "        3    0.000    0.000    0.000    0.000 iostream.py:93(_event_pipe)\n",
            "        3    0.000    0.000    0.000    0.000 socket.py:432(send)\n",
            "        3    0.000    0.000    0.000    0.000 threading.py:1062(_wait_for_tstate_lock)\n",
            "        3    0.000    0.000    0.000    0.000 threading.py:1104(is_alive)\n",
            "        3    0.000    0.000    0.000    0.000 threading.py:506(is_set)\n",
            "        1    0.000    0.000    0.000    0.000 {built-in method builtins.exec}\n",
            "        2    0.000    0.000    0.000    0.000 {built-in method builtins.isinstance}\n",
            "        1    0.000    0.000    0.000    0.000 {built-in method builtins.print}\n",
            "        2    0.000    0.000    0.000    0.000 {built-in method posix.getpid}\n",
            "        3    0.000    0.000    0.000    0.000 {method 'acquire' of '_thread.lock' objects}\n",
            "        3    0.000    0.000    0.000    0.000 {method 'append' of 'collections.deque' objects}\n",
            "        1    0.000    0.000    0.000    0.000 {method 'disable' of '_lsprof.Profiler' objects}\n",
            "\n",
            "\n"
          ],
          "name": "stdout"
        }
      ]
    },
    {
      "cell_type": "code",
      "metadata": {
        "colab": {
          "base_uri": "https://localhost:8080/"
        },
        "id": "vlktFoMUJPJ2",
        "outputId": "31112dbc-f2c8-4d9c-9794-36c0ef7e7f30"
      },
      "source": [
        "## Write a program to get the current user name \r\n",
        "import getpass\r\n",
        "print(getpass.getuser())"
      ],
      "execution_count": 18,
      "outputs": [
        {
          "output_type": "stream",
          "text": [
            "root\n"
          ],
          "name": "stdout"
        }
      ]
    },
    {
      "cell_type": "code",
      "metadata": {
        "colab": {
          "base_uri": "https://localhost:8080/"
        },
        "id": "ATntUTV8JavU",
        "outputId": "4364e878-8368-4123-8343-ec860d39deaa"
      },
      "source": [
        "## Write a code to print the URL content to the console.\r\n",
        "from http.client import HTTPConnection\r\n",
        "conn = HTTPConnection(\"google.com\")\r\n",
        "conn.request(\"GET\", \"/\")  \r\n",
        "result = conn.getresponse()\r\n",
        "# retrieves the entire contents.  \r\n",
        "contents = result.read() \r\n",
        "print(contents)"
      ],
      "execution_count": 1,
      "outputs": [
        {
          "output_type": "stream",
          "text": [
            "b'<HTML><HEAD><meta http-equiv=\"content-type\" content=\"text/html;charset=utf-8\">\\n<TITLE>301 Moved</TITLE></HEAD><BODY>\\n<H1>301 Moved</H1>\\nThe document has moved\\n<A HREF=\"http://www.google.com/\">here</A>.\\r\\n</BODY></HTML>\\r\\n'\n"
          ],
          "name": "stdout"
        }
      ]
    },
    {
      "cell_type": "code",
      "metadata": {
        "colab": {
          "base_uri": "https://localhost:8080/"
        },
        "id": "sqBL6LhDTHy9",
        "outputId": "58d4b0cd-4339-4d3c-e515-e323d1b99dd6"
      },
      "source": [
        "## write a pyhon function to give the running total and test with with a list.\r\n",
        "from itertools import accumulate\r\n",
        "import operator\r\n",
        "def running_sum(it):\r\n",
        "    return accumulate(it,operator.add)\r\n",
        "\r\n",
        "#List\r\n",
        "result = running_sum([1,2,3,4,5,6,7])\r\n",
        "print(\"Running sum of a list:\")\r\n",
        "for i in result:\r\n",
        "    print(i)"
      ],
      "execution_count": 4,
      "outputs": [
        {
          "output_type": "stream",
          "text": [
            "Running sum of a list:\n",
            "1\n",
            "3\n",
            "6\n",
            "10\n",
            "15\n",
            "21\n",
            "28\n"
          ],
          "name": "stdout"
        }
      ]
    },
    {
      "cell_type": "code",
      "metadata": {
        "colab": {
          "base_uri": "https://localhost:8080/"
        },
        "id": "1LDgT-haz9yt",
        "outputId": "c8fac5d7-c9c0-4d51-f877-c2770d783b8d"
      },
      "source": [
        "#Write a Python program to check that a string contains only a certain set of characters (in this case a-z, A-Z and 0-9).\r\n",
        "import re\r\n",
        "def is_allowed_specific_char(string):\r\n",
        "    charRe = re.compile(r'[^a-zA-Z0-9.]')\r\n",
        "    string = charRe.search(string)\r\n",
        "    return not bool(string)\r\n",
        "\r\n",
        "print(is_allowed_specific_char(\"ABCDEFabcdef123450\")) \r\n",
        "print(is_allowed_specific_char(\"*&%@#!}{\"))"
      ],
      "execution_count": 5,
      "outputs": [
        {
          "output_type": "stream",
          "text": [
            "True\n",
            "False\n"
          ],
          "name": "stdout"
        }
      ]
    },
    {
      "cell_type": "code",
      "metadata": {
        "colab": {
          "base_uri": "https://localhost:8080/"
        },
        "id": "TIAmwJgX0Krg",
        "outputId": "1b5d3b73-de87-470c-a07a-f7ba072c46ac"
      },
      "source": [
        "#Write a Python program that iterate over elements repeating each as many times as its count.\r\n",
        "from collections import Counter\r\n",
        "c = Counter(p=4, q=2, r=0, s=-2)\r\n",
        "print(list(c.elements()))\r\n"
      ],
      "execution_count": 6,
      "outputs": [
        {
          "output_type": "stream",
          "text": [
            "['p', 'p', 'p', 'p', 'q', 'q']\n"
          ],
          "name": "stdout"
        }
      ]
    },
    {
      "cell_type": "code",
      "metadata": {
        "colab": {
          "base_uri": "https://localhost:8080/"
        },
        "id": "9reFpz1q1GS3",
        "outputId": "12e8c0c0-c657-432a-ee10-b41f31a8ae70"
      },
      "source": [
        "## find the most common words in a sentence.\r\n",
        "from collections import Counter\r\n",
        "import re\r\n",
        "text = \"\"\"The start of T20 in a way revolutionised the cricket industry for good.  When we say this it is not just in terms of sports, fame, and viewership but also how it pumped up cricketer’s income. There are various leagues like BBL, IPL, CPL, PSL, and BPL which are pulling several big names across the globe which automatically helps in garnering massive revenue.\r\n",
        "\r\n",
        "With the genesis of T20 cricket, cricket has witnessed revolutionary changes in terms of the popularity of the sport and the income earned by cricketers. The format has brought in a fast-moving, entertaining form of cricket to the world, forcing batsmen and bowlers to garner out-of-the-box solutions to counter the attacking prowess of the opponent..\"\"\"\r\n",
        "words = re.findall('\\w+',text)\r\n",
        "print(Counter(words).most_common(10))"
      ],
      "execution_count": 8,
      "outputs": [
        {
          "output_type": "stream",
          "text": [
            "[('the', 10), ('of', 8), ('in', 5), ('cricket', 4), ('and', 4), ('to', 3), ('The', 2), ('T20', 2), ('a', 2), ('it', 2)]\n"
          ],
          "name": "stdout"
        }
      ]
    },
    {
      "cell_type": "code",
      "metadata": {
        "colab": {
          "base_uri": "https://localhost:8080/"
        },
        "id": "nIQPWpwi1yev",
        "outputId": "fc8f0f9d-f44e-444d-94e3-a51f8c2fd93e"
      },
      "source": [
        "#Write a Python program to find the most common elements and their counts of a specified text.\r\n",
        "from collections import Counter\r\n",
        "s = 'lkseropewdssafsdfafkpwe'\r\n",
        "print(\"Original string: \"+s)\r\n",
        "print(\"Most common three characters of the said string:\")\r\n",
        "print(Counter(s).most_common(3))"
      ],
      "execution_count": 10,
      "outputs": [
        {
          "output_type": "stream",
          "text": [
            "Original string: lkseropewdssafsdfafkpwe\n",
            "Most common three characters of the said string:\n",
            "[('s', 4), ('e', 3), ('f', 3)]\n"
          ],
          "name": "stdout"
        }
      ]
    },
    {
      "cell_type": "code",
      "metadata": {
        "colab": {
          "base_uri": "https://localhost:8080/"
        },
        "id": "owCeEBl42O4J",
        "outputId": "4fae11f9-76e4-4d1b-bc6b-ce4797dea36a"
      },
      "source": [
        "## Write a code to merge two dictionaries \r\n",
        "import collections as ct\r\n",
        "def merge_dictionaries(color1,color2):\r\n",
        "    merged_dict = dict(ct.ChainMap({}, color1, color2))\r\n",
        "    return merged_dict\r\n",
        "color1 = { \"R\": \"Red\", \"B\": \"Black\", \"P\": \"Pink\" }\r\n",
        "color2 = { \"G\": \"Green\", \"W\": \"White\" }\r\n",
        "print(\"Original dictionaries:\")\r\n",
        "print(color1,' ',color2)\r\n",
        "print(\"\\nMerged dictionary:\")\r\n",
        "print(merge_dictionaries(color1, color2))"
      ],
      "execution_count": 11,
      "outputs": [
        {
          "output_type": "stream",
          "text": [
            "Original dictionaries:\n",
            "{'R': 'Red', 'B': 'Black', 'P': 'Pink'}   {'G': 'Green', 'W': 'White'}\n",
            "\n",
            "Merged dictionary:\n",
            "{'W': 'White', 'G': 'Green', 'R': 'Red', 'P': 'Pink', 'B': 'Black'}\n"
          ],
          "name": "stdout"
        }
      ]
    },
    {
      "cell_type": "code",
      "metadata": {
        "colab": {
          "base_uri": "https://localhost:8080/"
        },
        "id": "QBP-5bq06lrV",
        "outputId": "5fb54fb7-11a3-41dc-b99f-3764af8d9ca0"
      },
      "source": [
        "## write a code to print count of each element in the list.\r\n",
        "sampleList = [11, 45, 8, 11, 23, 45, 23, 45, 89]\r\n",
        "print(\"Original list \", sampleList)\r\n",
        "\r\n",
        "countDict = dict()\r\n",
        "for item in sampleList:\r\n",
        "  if(item in countDict):\r\n",
        "    countDict[item] += 1\r\n",
        "  else:\r\n",
        "    countDict[item] = 1\r\n",
        "  \r\n",
        "print(\"Printing count of each item  \",countDict)"
      ],
      "execution_count": 12,
      "outputs": [
        {
          "output_type": "stream",
          "text": [
            "Original list  [11, 45, 8, 11, 23, 45, 23, 45, 89]\n",
            "Printing count of each item   {11: 2, 45: 3, 8: 1, 23: 2, 89: 1}\n"
          ],
          "name": "stdout"
        }
      ]
    },
    {
      "cell_type": "code",
      "metadata": {
        "colab": {
          "base_uri": "https://localhost:8080/"
        },
        "id": "OT5vYK7X752N",
        "outputId": "f2683fa4-f312-49ce-ce0b-37f35cb6d8a1"
      },
      "source": [
        "##Given a following two sets find the intersection and remove those elements from the first set\r\n",
        "firstSet  = {23, 42, 65, 57, 78, 83, 29}\r\n",
        "secondSet = {57, 83, 29, 67, 73, 43, 48}\r\n",
        "print(\"First Set \", firstSet)\r\n",
        "print(\"Second Set \", secondSet)\r\n",
        "\r\n",
        "intersection = firstSet.intersection(secondSet)\r\n",
        "print(\"Intersection is \", intersection)\r\n",
        "for item in intersection:\r\n",
        "  firstSet.remove(item)\r\n",
        "\r\n",
        "print(\"First Set after removing common element \", firstSet)"
      ],
      "execution_count": 14,
      "outputs": [
        {
          "output_type": "stream",
          "text": [
            "First Set  {65, 42, 78, 83, 23, 57, 29}\n",
            "Second Set  {67, 73, 43, 48, 83, 57, 29}\n",
            "Intersection is  {57, 83, 29}\n",
            "First Set after removing common element  {65, 42, 78, 23}\n"
          ],
          "name": "stdout"
        }
      ]
    },
    {
      "cell_type": "code",
      "metadata": {
        "colab": {
          "base_uri": "https://localhost:8080/"
        },
        "id": "AdeeMmbA8Hd5",
        "outputId": "859ecb93-ac87-4b82-ac47-67fe8aa48e39"
      },
      "source": [
        "##Given two sets, Checks if One Set is Subset or superset of Another Set. if the subset is found delete all elements from that set\r\n",
        "firstSet  = {57, 83, 29}\r\n",
        "secondSet = {57, 83, 29, 67, 73, 43, 48}\r\n",
        "\r\n",
        "print(\"First Set \", firstSet)\r\n",
        "print(\"Second Set \", secondSet)\r\n",
        "\r\n",
        "print(\"First set is subset of second set -\", firstSet.issubset(secondSet))\r\n",
        "print(\"Second set is subset of First set - \", secondSet.issubset(firstSet))\r\n",
        "\r\n",
        "print(\"First set is Super set of second set - \", firstSet.issuperset(secondSet))\r\n",
        "print(\"Second set is Super set of First set - \", secondSet.issuperset(firstSet))\r\n",
        "\r\n",
        "if(firstSet.issubset(secondSet)):\r\n",
        "  firstSet.clear()\r\n",
        "  \r\n",
        "if(secondSet.issubset(firstSet)):\r\n",
        "  secondSet.clear()\r\n",
        "print(\"First Set \", firstSet)\r\n",
        "print(\"Second Set \", secondSet)"
      ],
      "execution_count": 15,
      "outputs": [
        {
          "output_type": "stream",
          "text": [
            "First Set  {57, 83, 29}\n",
            "Second Set  {67, 73, 43, 48, 83, 57, 29}\n",
            "First set is subset of second set - True\n",
            "Second set is subset of First set -  False\n",
            "First set is Super set of second set -  False\n",
            "Second set is Super set of First set -  True\n",
            "First Set  set()\n",
            "Second Set  {67, 73, 43, 48, 83, 57, 29}\n"
          ],
          "name": "stdout"
        }
      ]
    }
  ]
}