{
  "nbformat": 4,
  "nbformat_minor": 0,
  "metadata": {
    "colab": {
      "name": "Sentiment Analysis using Naive Bayes.ipynb",
      "provenance": [],
      "collapsed_sections": [],
      "include_colab_link": true
    },
    "kernelspec": {
      "name": "python3",
      "display_name": "Python 3"
    }
  },
  "cells": [
    {
      "cell_type": "markdown",
      "metadata": {
        "id": "view-in-github",
        "colab_type": "text"
      },
      "source": [
        "<a href=\"https://colab.research.google.com/github/saurabhkirar/NLP_END/blob/main/Session1/Sentiment_Analysis_using_Naive_Bayes.ipynb\" target=\"_parent\"><img src=\"https://colab.research.google.com/assets/colab-badge.svg\" alt=\"Open In Colab\"/></a>"
      ]
    },
    {
      "cell_type": "markdown",
      "metadata": {
        "id": "I4tgyjYGU5mh"
      },
      "source": [
        "# Sentiment Analysis using Naive Bayes\n",
        "\n",
        "In this assignment, we will attempt to label tweets with sentiments (positive, neutral and negative) using Naive Bayes classifier. Naive Bayes is a very basic approach to this problem, but gives surprisingly good accuracy sometimes.\n",
        "\n",
        "**Fill in the Blanks**"
      ]
    },
    {
      "cell_type": "markdown",
      "metadata": {
        "id": "Af8UfnQOVXGZ"
      },
      "source": [
        "## Importing required libraries"
      ]
    },
    {
      "cell_type": "code",
      "metadata": {
        "id": "91xo5PKAUoux"
      },
      "source": [
        "import pandas as pd\n",
        "import re\n",
        "from sklearn.naive_bayes import MultinomialNB\n",
        "from sklearn.model_selection import train_test_split\n",
        "from sklearn.metrics import classification_report\n",
        "from sklearn.model_selection import GridSearchCV\n",
        "from sklearn.pipeline import Pipeline\n",
        "from sklearn.feature_extraction.text import CountVectorizer, TfidfTransformer"
      ],
      "execution_count": null,
      "outputs": []
    },
    {
      "cell_type": "markdown",
      "metadata": {
        "id": "uEeXoKyvVqdQ"
      },
      "source": [
        "## Reading dataset"
      ]
    },
    {
      "cell_type": "code",
      "metadata": {
        "id": "ws9NcQBGitXw",
        "outputId": "8e0e87c6-d887-490a-bccf-427eccbd2599",
        "colab": {
          "base_uri": "https://localhost:8080/",
          "height": 34
        }
      },
      "source": [
        "from google.colab import drive\n",
        "drive.mount('/content/drive')"
      ],
      "execution_count": null,
      "outputs": [
        {
          "output_type": "stream",
          "text": [
            "Mounted at /content/drive\n"
          ],
          "name": "stdout"
        }
      ]
    },
    {
      "cell_type": "code",
      "metadata": {
        "id": "selIshNKkFTc"
      },
      "source": [
        "project_path='/content/drive/My Drive/END/S1/Practice/'\n",
        "data_file=project_path+'tweets.csv'"
      ],
      "execution_count": null,
      "outputs": []
    },
    {
      "cell_type": "code",
      "metadata": {
        "id": "menn3WewVpe9",
        "outputId": "e4128040-0dce-4cf2-96ac-ad57cef33c43",
        "colab": {
          "base_uri": "https://localhost:8080/",
          "height": 359
        }
      },
      "source": [
        "data=pd.read_csv(data_file,encoding='UTF8')\n",
        "data.drop(data.columns[0],axis=1,inplace=True)\n",
        "data.sample(10)"
      ],
      "execution_count": null,
      "outputs": [
        {
          "output_type": "execute_result",
          "data": {
            "text/html": [
              "<div>\n",
              "<style scoped>\n",
              "    .dataframe tbody tr th:only-of-type {\n",
              "        vertical-align: middle;\n",
              "    }\n",
              "\n",
              "    .dataframe tbody tr th {\n",
              "        vertical-align: top;\n",
              "    }\n",
              "\n",
              "    .dataframe thead th {\n",
              "        text-align: right;\n",
              "    }\n",
              "</style>\n",
              "<table border=\"1\" class=\"dataframe\">\n",
              "  <thead>\n",
              "    <tr style=\"text-align: right;\">\n",
              "      <th></th>\n",
              "      <th>tweets</th>\n",
              "      <th>labels</th>\n",
              "    </tr>\n",
              "  </thead>\n",
              "  <tbody>\n",
              "    <tr>\n",
              "      <th>130</th>\n",
              "      <td>@EileenLeft @Wary12 This is from @DavidShuster...</td>\n",
              "      <td>0</td>\n",
              "    </tr>\n",
              "    <tr>\n",
              "      <th>919</th>\n",
              "      <td>RT @ohgirlphrase: American kid \"You're from th...</td>\n",
              "      <td>0</td>\n",
              "    </tr>\n",
              "    <tr>\n",
              "      <th>183</th>\n",
              "      <td>Obama has called the GOP budget social Darwini...</td>\n",
              "      <td>1</td>\n",
              "    </tr>\n",
              "    <tr>\n",
              "      <th>1289</th>\n",
              "      <td>Obey: Obama still not satisfied with the lapdo...</td>\n",
              "      <td>0</td>\n",
              "    </tr>\n",
              "    <tr>\n",
              "      <th>271</th>\n",
              "      <td>Obama has called the GOP budget social Darwini...</td>\n",
              "      <td>1</td>\n",
              "    </tr>\n",
              "    <tr>\n",
              "      <th>242</th>\n",
              "      <td>@HesDanTheMan @edshow nothing will come of it....</td>\n",
              "      <td>1</td>\n",
              "    </tr>\n",
              "    <tr>\n",
              "      <th>0</th>\n",
              "      <td>Obama has called the GOP budget social Darwini...</td>\n",
              "      <td>1</td>\n",
              "    </tr>\n",
              "    <tr>\n",
              "      <th>20</th>\n",
              "      <td>RT @FrankConniff: Harvard graduate Romney slam...</td>\n",
              "      <td>1</td>\n",
              "    </tr>\n",
              "    <tr>\n",
              "      <th>173</th>\n",
              "      <td>#WhatsRomneyHiding HE WONDERING.. WHATS OBAMA ...</td>\n",
              "      <td>0</td>\n",
              "    </tr>\n",
              "    <tr>\n",
              "      <th>206</th>\n",
              "      <td>Obama's Budget: 'Interest Payments Will Exceed...</td>\n",
              "      <td>2</td>\n",
              "    </tr>\n",
              "  </tbody>\n",
              "</table>\n",
              "</div>"
            ],
            "text/plain": [
              "                                                 tweets  labels\n",
              "130   @EileenLeft @Wary12 This is from @DavidShuster...       0\n",
              "919   RT @ohgirlphrase: American kid \"You're from th...       0\n",
              "183   Obama has called the GOP budget social Darwini...       1\n",
              "1289  Obey: Obama still not satisfied with the lapdo...       0\n",
              "271   Obama has called the GOP budget social Darwini...       1\n",
              "242   @HesDanTheMan @edshow nothing will come of it....       1\n",
              "0     Obama has called the GOP budget social Darwini...       1\n",
              "20    RT @FrankConniff: Harvard graduate Romney slam...       1\n",
              "173   #WhatsRomneyHiding HE WONDERING.. WHATS OBAMA ...       0\n",
              "206   Obama's Budget: 'Interest Payments Will Exceed...       2"
            ]
          },
          "metadata": {
            "tags": []
          },
          "execution_count": 4
        }
      ]
    },
    {
      "cell_type": "code",
      "metadata": {
        "id": "L3SXxjJOqgkG",
        "outputId": "95877819-232f-4ec9-f25c-d3babc25c23a",
        "colab": {
          "base_uri": "https://localhost:8080/",
          "height": 68
        }
      },
      "source": [
        "data.isnull().sum()\n",
        "## there are 5 tweets which are null,should be dropped from the training"
      ],
      "execution_count": null,
      "outputs": [
        {
          "output_type": "execute_result",
          "data": {
            "text/plain": [
              "tweets    5\n",
              "labels    0\n",
              "dtype: int64"
            ]
          },
          "metadata": {
            "tags": []
          },
          "execution_count": 5
        }
      ]
    },
    {
      "cell_type": "code",
      "metadata": {
        "id": "zgcNrqs6szu2"
      },
      "source": [
        "data.dropna(inplace=True)\n",
        "data.reset_index(inplace=True)"
      ],
      "execution_count": null,
      "outputs": []
    },
    {
      "cell_type": "code",
      "metadata": {
        "id": "6pNW0Oyik4kx",
        "outputId": "d6ace748-e0cc-49be-9cbf-a2f16ba170a4",
        "colab": {
          "base_uri": "https://localhost:8080/",
          "height": 265
        }
      },
      "source": [
        "## lets see the naure of the target.\n",
        "data.labels.value_counts(normalize=True).plot(kind='pie')"
      ],
      "execution_count": null,
      "outputs": [
        {
          "output_type": "execute_result",
          "data": {
            "text/plain": [
              "<matplotlib.axes._subplots.AxesSubplot at 0x7f396d3a2ba8>"
            ]
          },
          "metadata": {
            "tags": []
          },
          "execution_count": 7
        },
        {
          "output_type": "display_data",
          "data": {
            "image/png": "[encoded data removed]",
            "text/plain": [
              "<Figure size 432x288 with 1 Axes>"
            ]
          },
          "metadata": {
            "tags": []
          }
        }
      ]
    },
    {
      "cell_type": "markdown",
      "metadata": {
        "id": "1bUNORaDVwrN"
      },
      "source": [
        "## Text processing for the tweets"
      ]
    },
    {
      "cell_type": "code",
      "metadata": {
        "id": "gCtQLFwcHauQ",
        "outputId": "95910c84-7317-4cb9-d9c2-616379caca7e",
        "colab": {
          "base_uri": "https://localhost:8080/",
          "height": 102
        }
      },
      "source": [
        "import nltk \n",
        "nltk.download('stopwords')\n",
        "nltk.download('punkt')"
      ],
      "execution_count": null,
      "outputs": [
        {
          "output_type": "stream",
          "text": [
            "[nltk_data] Downloading package stopwords to /root/nltk_data...\n",
            "[nltk_data]   Unzipping corpora/stopwords.zip.\n",
            "[nltk_data] Downloading package punkt to /root/nltk_data...\n",
            "[nltk_data]   Unzipping tokenizers/punkt.zip.\n"
          ],
          "name": "stdout"
        },
        {
          "output_type": "execute_result",
          "data": {
            "text/plain": [
              "True"
            ]
          },
          "metadata": {
            "tags": []
          },
          "execution_count": 8
        }
      ]
    },
    {
      "cell_type": "code",
      "metadata": {
        "id": "qbVn9swJVuLA"
      },
      "source": [
        "from nltk.tokenize import word_tokenize\n",
        "from string import punctuation \n",
        "from nltk.corpus import stopwords \n",
        "\n",
        "stopwords = set(stopwords.words('english') + list(punctuation) + ['AT_USER','URL'])\n",
        "    \n",
        "def processTweet(tweet):\n",
        "    # tweet is the text we will pass for preprocessing \n",
        "    # convert passed tweet to lower case \n",
        "    tweet=  tweet.lower()\n",
        "    tweet = re.sub('((www\\.[^\\s]+)|(https?://[^\\s]+))', 'URL', tweet) # remove URLs\n",
        "    tweet = re.sub('@[^\\s]+', 'AT_USER', tweet) # remove usernames\n",
        "    tweet = re.sub(r'#([^\\s]+)', r'\\1', tweet) # remove the # in #hashtag\n",
        "    \n",
        "    # use work_tokenize imported above to tokenize the tweet\n",
        "    tweet=word_tokenize(tweet)\n",
        "    return [word for word in tweet if len(word)>2 if word not in stopwords]"
      ],
      "execution_count": null,
      "outputs": []
    },
    {
      "cell_type": "markdown",
      "metadata": {
        "id": "6gk8veQrWK7J"
      },
      "source": [
        "## Process all tweets"
      ]
    },
    {
      "cell_type": "code",
      "metadata": {
        "id": "44jBcZrTV1QQ"
      },
      "source": [
        "processed=[]\n",
        "\n",
        "for tweet in data['tweets']:\n",
        "    # process all tweets using processTweet function above - store in variable 'cleaned' \n",
        "    cleaned=processTweet(tweet)\n",
        "    processed.append(' '.join(cleaned))"
      ],
      "execution_count": null,
      "outputs": []
    },
    {
      "cell_type": "code",
      "metadata": {
        "id": "FQ_2PZV-WO_E"
      },
      "source": [
        "data['processed'] = processed"
      ],
      "execution_count": null,
      "outputs": []
    },
    {
      "cell_type": "code",
      "metadata": {
        "id": "BRLa5Xj8tynD",
        "outputId": "5dee9c45-ce4e-42c5-e6f0-7ce63b29776b",
        "colab": {
          "base_uri": "https://localhost:8080/",
          "height": 359
        }
      },
      "source": [
        "data.sample(10)"
      ],
      "execution_count": null,
      "outputs": [
        {
          "output_type": "execute_result",
          "data": {
            "text/html": [
              "<div>\n",
              "<style scoped>\n",
              "    .dataframe tbody tr th:only-of-type {\n",
              "        vertical-align: middle;\n",
              "    }\n",
              "\n",
              "    .dataframe tbody tr th {\n",
              "        vertical-align: top;\n",
              "    }\n",
              "\n",
              "    .dataframe thead th {\n",
              "        text-align: right;\n",
              "    }\n",
              "</style>\n",
              "<table border=\"1\" class=\"dataframe\">\n",
              "  <thead>\n",
              "    <tr style=\"text-align: right;\">\n",
              "      <th></th>\n",
              "      <th>index</th>\n",
              "      <th>tweets</th>\n",
              "      <th>labels</th>\n",
              "      <th>processed</th>\n",
              "    </tr>\n",
              "  </thead>\n",
              "  <tbody>\n",
              "    <tr>\n",
              "      <th>1205</th>\n",
              "      <td>1208</td>\n",
              "      <td>@MichelleObama great photo of Mrs Obama .</td>\n",
              "      <td>1</td>\n",
              "      <td>great photo mrs obama</td>\n",
              "    </tr>\n",
              "    <tr>\n",
              "      <th>547</th>\n",
              "      <td>548</td>\n",
              "      <td>RT @Atrios: probably not the most important th...</td>\n",
              "      <td>1</td>\n",
              "      <td>probably important thing world hope security t...</td>\n",
              "    </tr>\n",
              "    <tr>\n",
              "      <th>648</th>\n",
              "      <td>650</td>\n",
              "      <td>You know things are going bad for the #GOP whe...</td>\n",
              "      <td>0</td>\n",
              "      <td>know things going bad gop resort calling obama...</td>\n",
              "    </tr>\n",
              "    <tr>\n",
              "      <th>263</th>\n",
              "      <td>263</td>\n",
              "      <td>#edshow Whenever Obama tells the truth about t...</td>\n",
              "      <td>0</td>\n",
              "      <td>edshow whenever obama tells truth gop boo hoo ...</td>\n",
              "    </tr>\n",
              "    <tr>\n",
              "      <th>840</th>\n",
              "      <td>842</td>\n",
              "      <td>RT @blakehounshell: From Ignatius: \"U.S. offic...</td>\n",
              "      <td>2</td>\n",
              "      <td>ignatius u.s. officials hope putin broker syri...</td>\n",
              "    </tr>\n",
              "    <tr>\n",
              "      <th>1245</th>\n",
              "      <td>1248</td>\n",
              "      <td>RT @TCOTvideos: Obama's snafu over Supreme Cou...</td>\n",
              "      <td>1</td>\n",
              "      <td>obama snafu supreme court job duties give hint...</td>\n",
              "    </tr>\n",
              "    <tr>\n",
              "      <th>212</th>\n",
              "      <td>212</td>\n",
              "      <td>Obama 2 versions of his ties 2 #ACORN : At 200...</td>\n",
              "      <td>0</td>\n",
              "      <td>obama versions ties acorn 2008 debate acorn wh...</td>\n",
              "    </tr>\n",
              "    <tr>\n",
              "      <th>1369</th>\n",
              "      <td>1374</td>\n",
              "      <td>RT @edshow: Women at Augusta? Obama says absol...</td>\n",
              "      <td>0</td>\n",
              "      <td>women augusta obama says absolutely romney hed...</td>\n",
              "    </tr>\n",
              "    <tr>\n",
              "      <th>336</th>\n",
              "      <td>336</td>\n",
              "      <td>RT @ohgirlphrase: American kid \"You're from th...</td>\n",
              "      <td>0</td>\n",
              "      <td>american kid 're ohhh cool tea queen british k...</td>\n",
              "    </tr>\n",
              "    <tr>\n",
              "      <th>683</th>\n",
              "      <td>685</td>\n",
              "      <td>The actual Barack Obama Campaign And its parti...</td>\n",
              "      <td>0</td>\n",
              "      <td>actual barack obama campaign particular impact...</td>\n",
              "    </tr>\n",
              "  </tbody>\n",
              "</table>\n",
              "</div>"
            ],
            "text/plain": [
              "      index  ...                                          processed\n",
              "1205   1208  ...                              great photo mrs obama\n",
              "547     548  ...  probably important thing world hope security t...\n",
              "648     650  ...  know things going bad gop resort calling obama...\n",
              "263     263  ...  edshow whenever obama tells truth gop boo hoo ...\n",
              "840     842  ...  ignatius u.s. officials hope putin broker syri...\n",
              "1245   1248  ...  obama snafu supreme court job duties give hint...\n",
              "212     212  ...  obama versions ties acorn 2008 debate acorn wh...\n",
              "1369   1374  ...  women augusta obama says absolutely romney hed...\n",
              "336     336  ...  american kid 're ohhh cool tea queen british k...\n",
              "683     685  ...  actual barack obama campaign particular impact...\n",
              "\n",
              "[10 rows x 4 columns]"
            ]
          },
          "metadata": {
            "tags": []
          },
          "execution_count": 12
        }
      ]
    },
    {
      "cell_type": "code",
      "metadata": {
        "id": "9KWUQNNdv4So"
      },
      "source": [
        "## from the above output it is noticed that not all the puntuations are removed hence there is a need to refine the function."
      ],
      "execution_count": null,
      "outputs": []
    },
    {
      "cell_type": "markdown",
      "metadata": {
        "id": "JabmRdNiWUhc"
      },
      "source": [
        "## Create pipeline and define parameters for GridSearch"
      ]
    },
    {
      "cell_type": "code",
      "metadata": {
        "id": "azZvCgLsWVaZ"
      },
      "source": [
        "text_clf = Pipeline([('vect', CountVectorizer()),\n",
        "                     ('tfidf', TfidfTransformer()),\n",
        "                     ('clf', MultinomialNB())])\n",
        "\n",
        "tuned_parameters = {\n",
        "    'vect__ngram_range': [(1, 1), (1, 2), (2, 2)],\n",
        "    'tfidf__use_idf': (True, False),\n",
        "    'tfidf__norm': ('l1', 'l2'),\n",
        "    'clf__alpha': [1, 1e-1, 1e-2]\n",
        "}"
      ],
      "execution_count": null,
      "outputs": []
    },
    {
      "cell_type": "markdown",
      "metadata": {
        "id": "-0xeqceWWbz_"
      },
      "source": [
        "## Split data into test and train"
      ]
    },
    {
      "cell_type": "code",
      "metadata": {
        "id": "uznVuAUUWbPM"
      },
      "source": [
        "# split data into train and test with split as 0.2 \n",
        "X = data['processed']\n",
        "Y = data['labels']\n",
        "\n",
        "from sklearn.model_selection import train_test_split\n",
        "X_train,X_test,Y_train,Y_test=train_test_split(X,Y,test_size =.2,random_state=7,stratify=data['labels'])"
      ],
      "execution_count": null,
      "outputs": []
    },
    {
      "cell_type": "code",
      "metadata": {
        "id": "yHsawSmR6Hsd",
        "outputId": "77033382-f65d-4f7d-a3a4-540f3aa14cfb",
        "colab": {
          "base_uri": "https://localhost:8080/",
          "height": 85
        }
      },
      "source": [
        "print('X_train',X_train.shape)\n",
        "print('X_test',X_test.shape)\n",
        "print('Y_train',Y_train.shape)\n",
        "print('Y_test',Y_test.shape)"
      ],
      "execution_count": null,
      "outputs": [
        {
          "output_type": "stream",
          "text": [
            "X_train (1100,)\n",
            "X_test (275,)\n",
            "Y_train (1100,)\n",
            "Y_test (275,)\n"
          ],
          "name": "stdout"
        }
      ]
    },
    {
      "cell_type": "markdown",
      "metadata": {
        "id": "Y1ZgcaM8WfRB"
      },
      "source": [
        "## Perform classification (using GridSearch)"
      ]
    },
    {
      "cell_type": "code",
      "metadata": {
        "id": "AUwwb2IWWhmH",
        "outputId": "27d51366-08ac-4c35-b2f8-f28104cf8f55",
        "colab": {
          "base_uri": "https://localhost:8080/",
          "height": 561
        }
      },
      "source": [
        "# perform GridSearch CV with 10 fold CV using pipeline and tuned_paramters defined above \n",
        "from sklearn.model_selection import GridSearchCV\n",
        "clf = GridSearchCV(text_clf,tuned_parameters,cv=10)\n",
        "clf.fit(X_train,Y_train)"
      ],
      "execution_count": null,
      "outputs": [
        {
          "output_type": "execute_result",
          "data": {
            "text/plain": [
              "GridSearchCV(cv=10, error_score=nan,\n",
              "             estimator=Pipeline(memory=None,\n",
              "                                steps=[('vect',\n",
              "                                        CountVectorizer(analyzer='word',\n",
              "                                                        binary=False,\n",
              "                                                        decode_error='strict',\n",
              "                                                        dtype=<class 'numpy.int64'>,\n",
              "                                                        encoding='utf-8',\n",
              "                                                        input='content',\n",
              "                                                        lowercase=True,\n",
              "                                                        max_df=1.0,\n",
              "                                                        max_features=None,\n",
              "                                                        min_df=1,\n",
              "                                                        ngram_range=(1, 1),\n",
              "                                                        preprocessor=None,\n",
              "                                                        stop_words=None,\n",
              "                                                        strip_accents=None,\n",
              "                                                        token_pattern='(?u...\n",
              "                                                         sublinear_tf=False,\n",
              "                                                         use_idf=True)),\n",
              "                                       ('clf',\n",
              "                                        MultinomialNB(alpha=1.0,\n",
              "                                                      class_prior=None,\n",
              "                                                      fit_prior=True))],\n",
              "                                verbose=False),\n",
              "             iid='deprecated', n_jobs=None,\n",
              "             param_grid={'clf__alpha': [1, 0.1, 0.01],\n",
              "                         'tfidf__norm': ('l1', 'l2'),\n",
              "                         'tfidf__use_idf': (True, False),\n",
              "                         'vect__ngram_range': [(1, 1), (1, 2), (2, 2)]},\n",
              "             pre_dispatch='2*n_jobs', refit=True, return_train_score=False,\n",
              "             scoring=None, verbose=0)"
            ]
          },
          "metadata": {
            "tags": []
          },
          "execution_count": 28
        }
      ]
    },
    {
      "cell_type": "code",
      "metadata": {
        "id": "s43xHo1u89y5",
        "outputId": "730a2b70-6fd9-456b-a0da-1c8219cb7b31",
        "colab": {
          "base_uri": "https://localhost:8080/",
          "height": 85
        }
      },
      "source": [
        "clf.best_params_"
      ],
      "execution_count": null,
      "outputs": [
        {
          "output_type": "execute_result",
          "data": {
            "text/plain": [
              "{'clf__alpha': 0.1,\n",
              " 'tfidf__norm': 'l2',\n",
              " 'tfidf__use_idf': False,\n",
              " 'vect__ngram_range': (1, 2)}"
            ]
          },
          "metadata": {
            "tags": []
          },
          "execution_count": 30
        }
      ]
    },
    {
      "cell_type": "code",
      "metadata": {
        "id": "F5so4j2q9EqL"
      },
      "source": [
        "Y_pred=clf.predict(X_test)"
      ],
      "execution_count": null,
      "outputs": []
    },
    {
      "cell_type": "markdown",
      "metadata": {
        "id": "CE_mfhiUWyc8"
      },
      "source": [
        "## Classification report "
      ]
    },
    {
      "cell_type": "code",
      "metadata": {
        "id": "rqvkzGFRWzIb",
        "outputId": "19f59e21-8351-4dfc-bbee-d981554664ed",
        "colab": {
          "base_uri": "https://localhost:8080/",
          "height": 187
        }
      },
      "source": [
        "# print classification report after predicting on test set with best model obtained in GridSearch\n",
        "from sklearn.metrics import classification_report,confusion_matrix\n",
        "Y_pred=clf.predict(X_test)\n",
        "print(classification_report(Y_test,Y_pred))"
      ],
      "execution_count": null,
      "outputs": [
        {
          "output_type": "stream",
          "text": [
            "              precision    recall  f1-score   support\n",
            "\n",
            "           0       0.87      0.97      0.92       188\n",
            "           1       0.88      0.72      0.79        71\n",
            "           2       1.00      0.38      0.55        16\n",
            "\n",
            "    accuracy                           0.87       275\n",
            "   macro avg       0.92      0.69      0.75       275\n",
            "weighted avg       0.88      0.87      0.86       275\n",
            "\n"
          ],
          "name": "stdout"
        }
      ]
    },
    {
      "cell_type": "code",
      "metadata": {
        "id": "pfm9wCgy99pz",
        "outputId": "42c9e553-7bce-4af4-b16c-654be85c26c5",
        "colab": {
          "base_uri": "https://localhost:8080/",
          "height": 68
        }
      },
      "source": [
        "print(confusion_matrix(Y_test,Y_pred)) ## the recall is not good for class 1 and 2."
      ],
      "execution_count": null,
      "outputs": [
        {
          "output_type": "stream",
          "text": [
            "[[183   5   0]\n",
            " [ 20  51   0]\n",
            " [  8   2   6]]\n"
          ],
          "name": "stdout"
        }
      ]
    },
    {
      "cell_type": "markdown",
      "metadata": {
        "id": "shTpptLeW1SF"
      },
      "source": [
        "## Important:"
      ]
    },
    {
      "cell_type": "code",
      "metadata": {
        "id": "OdWycpFYW3iD",
        "outputId": "6e0fd865-b6c6-492b-c203-9dea7b81462d",
        "colab": {
          "base_uri": "https://localhost:8080/",
          "height": 85
        }
      },
      "source": [
        "counts = data.labels.value_counts()\n",
        "print(counts)"
      ],
      "execution_count": null,
      "outputs": [
        {
          "output_type": "stream",
          "text": [
            "0    942\n",
            "1    352\n",
            "2     81\n",
            "Name: labels, dtype: int64\n"
          ],
          "name": "stdout"
        }
      ]
    },
    {
      "cell_type": "markdown",
      "metadata": {
        "id": "6l3PcKXfW9LE"
      },
      "source": [
        "We can see above that the class distribution is highly imbalanced, this would not lead to good sampling of the data for the classifier. For your learning, try using [SMOTE](https://imbalanced-learn.readthedocs.io/en/stable/api.html) to oversample the minority classes and then evaluate the performance with Naive Bayes and compare."
      ]
    },
    {
      "cell_type": "code",
      "metadata": {
        "id": "3aY3Eg7EKGY6"
      },
      "source": [
        "from imblearn.over_sampling import SMOTE,ADASYN,SVMSMOTE\n",
        "from imblearn.pipeline import Pipeline\n",
        "import warnings\n",
        "warnings.filterwarnings('ignore')"
      ],
      "execution_count": null,
      "outputs": []
    },
    {
      "cell_type": "code",
      "metadata": {
        "id": "A5MyXET9RaUr"
      },
      "source": [
        "sampler = SMOTE(random_state=0)\n",
        "\n",
        "text_clf_sm = Pipeline([                        \n",
        "                      ('vect', CountVectorizer()),\n",
        "                     ('tfidf', TfidfTransformer()),\n",
        "                    # ('smot',SMOTE()),\n",
        "                    # ('Ada',ADASYN()),\n",
        "                     ('smot',SVMSMOTE()),\n",
        "                     ('clf', MultinomialNB())\n",
        "                     ])\n",
        "\n",
        "#p1=Pipeline(sampler,text_clf_sm)\n",
        "\n",
        "tuned_parameters_sm = {\n",
        "    'vect__ngram_range': [(1, 1), (1, 2), (2, 2)],\n",
        "    'tfidf__use_idf': (True, False),\n",
        "    'tfidf__norm': ('l1', 'l2'),\n",
        "    'smot__k_neighbors' : [5,10,15,20],\n",
        "    #'sampling_strategy':(str),\n",
        "    'clf__alpha': [1, 1e-1, 1e-2]\n",
        "}"
      ],
      "execution_count": null,
      "outputs": []
    },
    {
      "cell_type": "code",
      "metadata": {
        "id": "uW4Ks7uoR5Os",
        "outputId": "8f3e3e3d-9417-48ae-b8be-0446abbca5af",
        "colab": {
          "base_uri": "https://localhost:8080/",
          "height": 527
        }
      },
      "source": [
        "clf_sm = GridSearchCV(text_clf_sm,tuned_parameters_sm,cv=10)\n",
        "clf_sm.fit(X_train,Y_train)"
      ],
      "execution_count": null,
      "outputs": [
        {
          "output_type": "execute_result",
          "data": {
            "text/plain": [
              "GridSearchCV(cv=10, error_score=nan,\n",
              "             estimator=Pipeline(memory=None,\n",
              "                                steps=[('vect',\n",
              "                                        CountVectorizer(analyzer='word',\n",
              "                                                        binary=False,\n",
              "                                                        decode_error='strict',\n",
              "                                                        dtype=<class 'numpy.int64'>,\n",
              "                                                        encoding='utf-8',\n",
              "                                                        input='content',\n",
              "                                                        lowercase=True,\n",
              "                                                        max_df=1.0,\n",
              "                                                        max_features=None,\n",
              "                                                        min_df=1,\n",
              "                                                        ngram_range=(1, 1),\n",
              "                                                        preprocessor=None,\n",
              "                                                        stop_words=None,\n",
              "                                                        strip_accents=None,\n",
              "                                                        token_pattern='(?u...\n",
              "                                        MultinomialNB(alpha=1.0,\n",
              "                                                      class_prior=None,\n",
              "                                                      fit_prior=True))],\n",
              "                                verbose=False),\n",
              "             iid='deprecated', n_jobs=None,\n",
              "             param_grid={'clf__alpha': [1, 0.1, 0.01],\n",
              "                         'smot__k_neighbors': [5, 10, 15, 20],\n",
              "                         'tfidf__norm': ('l1', 'l2'),\n",
              "                         'tfidf__use_idf': (True, False),\n",
              "                         'vect__ngram_range': [(1, 1), (1, 2), (2, 2)]},\n",
              "             pre_dispatch='2*n_jobs', refit=True, return_train_score=False,\n",
              "             scoring=None, verbose=0)"
            ]
          },
          "metadata": {
            "tags": []
          },
          "execution_count": 102
        }
      ]
    },
    {
      "cell_type": "code",
      "metadata": {
        "id": "ZdLSBT9FaUGt",
        "outputId": "9ee248f4-190d-423d-95bd-42985147888b",
        "colab": {
          "base_uri": "https://localhost:8080/",
          "height": 102
        }
      },
      "source": [
        "clf_sm.best_params_"
      ],
      "execution_count": null,
      "outputs": [
        {
          "output_type": "execute_result",
          "data": {
            "text/plain": [
              "{'clf__alpha': 1,\n",
              " 'smot__k_neighbors': 20,\n",
              " 'tfidf__norm': 'l2',\n",
              " 'tfidf__use_idf': True,\n",
              " 'vect__ngram_range': (2, 2)}"
            ]
          },
          "metadata": {
            "tags": []
          },
          "execution_count": 103
        }
      ]
    },
    {
      "cell_type": "code",
      "metadata": {
        "id": "_SVdIHqTaGHO",
        "outputId": "a8e5e0b3-0deb-4afa-907c-9042bbadeb71",
        "colab": {
          "base_uri": "https://localhost:8080/",
          "height": 187
        }
      },
      "source": [
        "## We can see now that the recall value has increased for class 1 and 2.\n",
        "Y_pred=clf_sm.predict(X_test)\n",
        "print(classification_report(Y_test,Y_pred))"
      ],
      "execution_count": null,
      "outputs": [
        {
          "output_type": "stream",
          "text": [
            "              precision    recall  f1-score   support\n",
            "\n",
            "           0       0.86      0.95      0.90       188\n",
            "           1       0.84      0.69      0.76        71\n",
            "           2       0.67      0.38      0.48        16\n",
            "\n",
            "    accuracy                           0.85       275\n",
            "   macro avg       0.79      0.67      0.71       275\n",
            "weighted avg       0.85      0.85      0.84       275\n",
            "\n"
          ],
          "name": "stdout"
        }
      ]
    }
  ]
}