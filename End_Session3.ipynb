{
  "nbformat": 4,
  "nbformat_minor": 0,
  "metadata": {
    "colab": {
      "name": "End_Session3.ipynb",
      "provenance": [],
      "collapsed_sections": [],
      "authorship_tag": "ABX9TyNLvQJyiBgVGnbrX/9km67u",
      "include_colab_link": true
    },
    "kernelspec": {
      "name": "python3",
      "display_name": "Python 3"
    }
  },
  "cells": [
    {
      "cell_type": "markdown",
      "metadata": {
        "id": "view-in-github",
        "colab_type": "text"
      },
      "source": [
        "<a href=\"https://colab.research.google.com/github/saurabhkirar/NLP_END/blob/main/End_Session3.ipynb\" target=\"_parent\"><img src=\"https://colab.research.google.com/assets/colab-badge.svg\" alt=\"Open In Colab\"/></a>"
      ]
    },
    {
      "cell_type": "code",
      "metadata": {
        "id": "lN1PaDXWebCf"
      },
      "source": [
        "from numbers import Number\n",
        "import math\n",
        "import string\n",
        "import requests\n",
        "import random\n",
        "from functools import reduce\n",
        "from functools import partial"
      ],
      "execution_count": 71,
      "outputs": []
    },
    {
      "cell_type": "markdown",
      "metadata": {
        "id": "TXgAFK_we1E2"
      },
      "source": [
        "Q1 Write a function using only list filter lambda that can tell whether a number is a Fibonacci number or not. You can use a pre-calculated list/dict to store fab numbers till 10000 PTS:100"
      ]
    },
    {
      "cell_type": "code",
      "metadata": {
        "id": "xelVBREFe6Lf"
      },
      "source": [
        "def fibonacci(n:'int') -> 'calculates fibonacci of given number' :\n",
        "    FibArray = [0,1]\n",
        "    if n<0:\n",
        "        print(\"please enter correct  input\")\n",
        "    elif n<=len(FibArray):\n",
        "        return FibArray[n-1]\n",
        "    else:\n",
        "        temp_fib = fibonacci(n-1)+fibonacci(n-2)\n",
        "        FibArray.append(temp_fib)\n",
        "        return  temp_fib"
      ],
      "execution_count": null,
      "outputs": []
    },
    {
      "cell_type": "code",
      "metadata": {
        "id": "tYNrnjcuYOAF"
      },
      "source": [
        "def find_fib():\n",
        "    fib_numbers = [fibonacci(i) for i in range(1,30)]\n",
        "    return fib_numbers"
      ],
      "execution_count": null,
      "outputs": []
    },
    {
      "cell_type": "code",
      "metadata": {
        "id": "g5NfvSPAXzoX"
      },
      "source": [
        "def check_fibonocci(n : 'Number') -> \"checks if a number is a fibonacci or not\" :\n",
        "    l=[]\n",
        "    if not isinstance(n,Number):\n",
        "        raise ValueError(\"Please enter a number as valid Input\")\n",
        "    l.append(n)\n",
        "    return bool(list(filter(lambda x:  x in find_fib(),l)))"
      ],
      "execution_count": null,
      "outputs": []
    },
    {
      "cell_type": "code",
      "metadata": {
        "id": "iOFkMgFKZhvT",
        "outputId": "bb99b7c7-4b24-4257-badd-b6238d213f59",
        "colab": {
          "base_uri": "https://localhost:8080/"
        }
      },
      "source": [
        "check_fibonocci(2)"
      ],
      "execution_count": null,
      "outputs": [
        {
          "output_type": "execute_result",
          "data": {
            "text/plain": [
              "True"
            ]
          },
          "metadata": {
            "tags": []
          },
          "execution_count": 28
        }
      ]
    },
    {
      "cell_type": "markdown",
      "metadata": {
        "id": "uhDlAHWyZx0-"
      },
      "source": [
        "Q2 Using list comprehension (and zip/lambda/etc if required) write five different expressions that: PTS:100\n",
        "1. add 2 iterables a and b such that a is even and b is odd\n",
        "\n",
        "2. strips every vowel from a string provided (tsai>>t s)\n",
        "\n",
        "3. acts like a ReLU function for a 1D array.\n",
        "\n",
        "4. acts like a sigmoid function for a 1D array\n",
        "\n",
        "5. takes a small character string and shifts all characters by 5 (handle boundary conditions) tsai>>yxfn"
      ]
    },
    {
      "cell_type": "code",
      "metadata": {
        "id": "SNyKNsrWZ1jo"
      },
      "source": [
        "#add 2 iterables a and b such that a is even and b is odd\n",
        "add_iterables_even_odd = lambda iter1,iter2: [x+y for x,y in zip(iter1,iter2) if x%2 == 0 and y%2!=0]"
      ],
      "execution_count": 38,
      "outputs": []
    },
    {
      "cell_type": "code",
      "metadata": {
        "id": "2Bx5elPha5xH",
        "outputId": "37254dad-3755-4d2c-8db1-d3e6bc811da8",
        "colab": {
          "base_uri": "https://localhost:8080/"
        }
      },
      "source": [
        "add_iterables_even_odd([6,4],[5,9])"
      ],
      "execution_count": 59,
      "outputs": [
        {
          "output_type": "execute_result",
          "data": {
            "text/plain": [
              "[9, 11, 17]"
            ]
          },
          "metadata": {
            "tags": []
          },
          "execution_count": 59
        }
      ]
    },
    {
      "cell_type": "code",
      "metadata": {
        "id": "WBObkVvucWLn",
        "outputId": "b21f3ff7-fe61-4236-bf36-bda63e42e5c2",
        "colab": {
          "base_uri": "https://localhost:8080/"
        }
      },
      "source": [
        "iter1=[3,4,10,8]\n",
        "iter2=[5,6,1,9]\n",
        "l1=[a for a in iter1 if a%2==0]\n",
        "l2=[b for b in iter2 if b%2!=0]\n",
        "[x+y for x,y in zip(l1,l2)]"
      ],
      "execution_count": 63,
      "outputs": [
        {
          "output_type": "execute_result",
          "data": {
            "text/plain": [
              "[9, 11, 17]"
            ]
          },
          "metadata": {
            "tags": []
          },
          "execution_count": 63
        }
      ]
    },
    {
      "cell_type": "code",
      "metadata": {
        "id": "jDZKX48xaAwq"
      },
      "source": [
        "#strips every vowel from a string provided (tsai>>t s)\n",
        "strip_vowels = lambda y: ''.join(list(filter(lambda x : x not in \"AaEeIiOoUu\",y)))"
      ],
      "execution_count": 64,
      "outputs": []
    },
    {
      "cell_type": "code",
      "metadata": {
        "id": "nYkk7i7RayHI",
        "outputId": "db98fe44-265d-447c-824c-4c281480b06f",
        "colab": {
          "base_uri": "https://localhost:8080/",
          "height": 35
        }
      },
      "source": [
        "strip_vowels('12SER')"
      ],
      "execution_count": 65,
      "outputs": [
        {
          "output_type": "execute_result",
          "data": {
            "application/vnd.google.colaboratory.intrinsic+json": {
              "type": "string"
            },
            "text/plain": [
              "'12SR'"
            ]
          },
          "metadata": {
            "tags": []
          },
          "execution_count": 65
        }
      ]
    },
    {
      "cell_type": "code",
      "metadata": {
        "id": "ZbAn_yb4a08f"
      },
      "source": [
        "# ReLU function for a 1D array\n",
        "relu_func = lambda x:  list(map(lambda y: y if y>0 else 0 ,x))"
      ],
      "execution_count": 66,
      "outputs": []
    },
    {
      "cell_type": "code",
      "metadata": {
        "id": "6zNp2E4Whr0S",
        "outputId": "84a5a5e5-b33e-4a2e-9fa0-2d4b3c3ad34f",
        "colab": {
          "base_uri": "https://localhost:8080/"
        }
      },
      "source": [
        "relu_func([1,2,3,0,-9,-65])"
      ],
      "execution_count": 68,
      "outputs": [
        {
          "output_type": "execute_result",
          "data": {
            "text/plain": [
              "[1, 2, 3, 0, 0, 0]"
            ]
          },
          "metadata": {
            "tags": []
          },
          "execution_count": 68
        }
      ]
    },
    {
      "cell_type": "code",
      "metadata": {
        "id": "VLQiVlY2hyke"
      },
      "source": [
        "# a sigmoid function for a 1D array\n",
        "sigmoid_func = lambda x :  list(map(lambda y: (1/(1+math.exp(-y))),x))"
      ],
      "execution_count": 69,
      "outputs": []
    },
    {
      "cell_type": "code",
      "metadata": {
        "id": "u-FhoVWWh2Er",
        "outputId": "486db912-7317-4d0f-e150-76ea41b4e868",
        "colab": {
          "base_uri": "https://localhost:8080/"
        }
      },
      "source": [
        "sigmoid_func([1,2,3,0,-9,-65])"
      ],
      "execution_count": 72,
      "outputs": [
        {
          "output_type": "execute_result",
          "data": {
            "text/plain": [
              "[0.7310585786300049,\n",
              " 0.8807970779778823,\n",
              " 0.9525741268224334,\n",
              " 0.5,\n",
              " 0.00012339457598623172,\n",
              " 5.900090541597061e-29]"
            ]
          },
          "metadata": {
            "tags": []
          },
          "execution_count": 72
        }
      ]
    },
    {
      "cell_type": "code",
      "metadata": {
        "id": "MVAUeFRIicpU"
      },
      "source": [
        "#takes a small character string and shifts all characters by 5 (handle boundary conditions) tsai>>yxfn\n",
        "shift_alphabets = lambda input_string : ''.join(map(lambda x: chr(97+(ord(x) - 97)%21 + 5)  if ord(x) < 118 else chr(97+(ord(x)-97)%21),filter(lambda x: x in string.ascii_lowercase ,input_string.lower())))"
      ],
      "execution_count": 73,
      "outputs": []
    },
    {
      "cell_type": "code",
      "metadata": {
        "id": "ELnzJkqDkJPv",
        "outputId": "f632979d-195a-423c-a4d6-037efb560f9f",
        "colab": {
          "base_uri": "https://localhost:8080/",
          "height": 35
        }
      },
      "source": [
        "shift_alphabets('xl')"
      ],
      "execution_count": 75,
      "outputs": [
        {
          "output_type": "execute_result",
          "data": {
            "application/vnd.google.colaboratory.intrinsic+json": {
              "type": "string"
            },
            "text/plain": [
              "'cq'"
            ]
          },
          "metadata": {
            "tags": []
          },
          "execution_count": 75
        }
      ]
    },
    {
      "cell_type": "markdown",
      "metadata": {
        "id": "qNQF1mHEktm8"
      },
      "source": [
        "Q3 A list comprehension expression that takes a ~200 word paragraph (write your own paragraph to check), and checks whether it has any of the swear words mentioned in https://github.com/RobertJGabriel/Google-profanity-words/blob/master/list.txt PTS:200"
      ]
    },
    {
      "cell_type": "code",
      "metadata": {
        "id": "YmDQ7SD3lVY7"
      },
      "source": [
        "def profanity_check(passage:'string') -> 'checks for validating profanity words':\n",
        "    target_url=' https://github.com/RobertJGabriel/Google-profanity-words/blob/master/list.txt'\n",
        "    response = requests.get(target_url)\n",
        "    checked_list = [i for i in passage.split() if i not in response.text]\n",
        "    return bool(checked_list)"
      ],
      "execution_count": 76,
      "outputs": []
    },
    {
      "cell_type": "code",
      "metadata": {
        "id": "lZ0XoDQ7leig",
        "outputId": "341b0bf4-0f42-402b-de89-0892b5804efe",
        "colab": {
          "base_uri": "https://localhost:8080/"
        }
      },
      "source": [
        "profanity_check('A quick brown for')"
      ],
      "execution_count": 79,
      "outputs": [
        {
          "output_type": "execute_result",
          "data": {
            "text/plain": [
              "True"
            ]
          },
          "metadata": {
            "tags": []
          },
          "execution_count": 79
        }
      ]
    },
    {
      "cell_type": "markdown",
      "metadata": {
        "id": "LUi9zKcxoZhd"
      },
      "source": [
        "Q4 Using reduce functions: PTS:100\n",
        "\n",
        "a)add only even numbers in a list\n",
        "\n",
        "b)find the biggest character in a string (printable ascii characters)\n",
        "\n",
        "\n",
        "> Indented block\n",
        "\n",
        "\n",
        "c)adds every 3rd number in a list"
      ]
    },
    {
      "cell_type": "code",
      "metadata": {
        "id": "rit57u9Bojo9"
      },
      "source": [
        "#4a\n",
        "add_even_no = lambda iterator: reduce(lambda a,b: a+b if b%2==0  else a,iterator,0)\n"
      ],
      "execution_count": 80,
      "outputs": []
    },
    {
      "cell_type": "code",
      "metadata": {
        "id": "gul-cG4foqMa"
      },
      "source": [
        "#4b\n",
        "find_biggest_char = lambda iterator: reduce(lambda a,b: a if ord(a) > ord(b) else b,iterator)"
      ],
      "execution_count": 82,
      "outputs": []
    },
    {
      "cell_type": "code",
      "metadata": {
        "id": "4yTNsmgCouB3"
      },
      "source": [
        "#4c\n",
        "add_every_third_no = lambda iterator : reduce(lambda a,b: a+b if (iterator.index(b)+1) %3 ==0 else a,iterator,0)"
      ],
      "execution_count": 83,
      "outputs": []
    },
    {
      "cell_type": "markdown",
      "metadata": {
        "id": "nFMV7LgspCPa"
      },
      "source": [
        "Q5 Using randint, random.choice and list comprehensions, write an expression that generates 15 random KADDAADDDD number plates, where KA is fixed, D stands for a digit, and A stands for Capital alphabets. 10<<DD<<99 & 1000<<DDDD<<9999 PTS:100"
      ]
    },
    {
      "cell_type": "code",
      "metadata": {
        "id": "BjNRHQ88pFIi"
      },
      "source": [
        "def generate_number_plate_KA() -> 'generates karnataka number plates':\n",
        "    return ['KA' + str(random.randint(10,100)) + random.choice(string.ascii_uppercase) +random.choice(string.ascii_uppercase) + str(random.randint(1000,10000)) for i in range(15)]"
      ],
      "execution_count": 84,
      "outputs": []
    },
    {
      "cell_type": "code",
      "metadata": {
        "id": "YuSLPFV3pTrx",
        "outputId": "6b62132d-a14d-4b5b-95b8-eb3efcaa5c40",
        "colab": {
          "base_uri": "https://localhost:8080/"
        }
      },
      "source": [
        "generate_number_plate_KA()"
      ],
      "execution_count": 86,
      "outputs": [
        {
          "output_type": "execute_result",
          "data": {
            "text/plain": [
              "['KA12XJ9391',\n",
              " 'KA49LO3671',\n",
              " 'KA94NE1522',\n",
              " 'KA43EP2943',\n",
              " 'KA62XK9840',\n",
              " 'KA38LN2440',\n",
              " 'KA88UY9430',\n",
              " 'KA95QG9068',\n",
              " 'KA22VH4955',\n",
              " 'KA91BB3200',\n",
              " 'KA59AY3380',\n",
              " 'KA50QY7213',\n",
              " 'KA23KF7700',\n",
              " 'KA44CO2209',\n",
              " 'KA39TN3107']"
            ]
          },
          "metadata": {
            "tags": []
          },
          "execution_count": 86
        }
      ]
    },
    {
      "cell_type": "code",
      "metadata": {
        "id": "NxMrH7bqpYlK"
      },
      "source": [
        "def generate_number_plate_generic(state_code,area_code,alpha_code,reg_no):\n",
        "    return state_code + str(area_code) + alpha_code + str(reg_no)"
      ],
      "execution_count": 87,
      "outputs": []
    },
    {
      "cell_type": "code",
      "metadata": {
        "id": "ZtIaI3jwqF74"
      },
      "source": [
        "registration_number = partial(generate_number_plate_generic,area_code = random.randint(10,99),alpha_code = random.choice(string.ascii_uppercase) + random.choice(string.ascii_uppercase), reg_no = random.randint(1000,10000))\n"
      ],
      "execution_count": 89,
      "outputs": []
    },
    {
      "cell_type": "code",
      "metadata": {
        "id": "Gt_YU6wTqLEK"
      },
      "source": [
        "def get_number_plate(state_code):\n",
        "    return [registration_number(state_code) for i in range(15)]"
      ],
      "execution_count": 90,
      "outputs": []
    },
    {
      "cell_type": "code",
      "metadata": {
        "id": "KLaWl1N7qOPC",
        "outputId": "d1207e5a-9bdd-4a43-e555-fed6f6da1e75",
        "colab": {
          "base_uri": "https://localhost:8080/"
        }
      },
      "source": [
        "get_number_plate('DL')"
      ],
      "execution_count": 92,
      "outputs": [
        {
          "output_type": "execute_result",
          "data": {
            "text/plain": [
              "['DL44RQ4800',\n",
              " 'DL44RQ4800',\n",
              " 'DL44RQ4800',\n",
              " 'DL44RQ4800',\n",
              " 'DL44RQ4800',\n",
              " 'DL44RQ4800',\n",
              " 'DL44RQ4800',\n",
              " 'DL44RQ4800',\n",
              " 'DL44RQ4800',\n",
              " 'DL44RQ4800',\n",
              " 'DL44RQ4800',\n",
              " 'DL44RQ4800',\n",
              " 'DL44RQ4800',\n",
              " 'DL44RQ4800',\n",
              " 'DL44RQ4800']"
            ]
          },
          "metadata": {
            "tags": []
          },
          "execution_count": 92
        }
      ]
    },
    {
      "cell_type": "markdown",
      "metadata": {
        "id": "uWBPBqdIqT-4"
      },
      "source": [
        "## End of the assignment "
      ]
    }
  ]
}